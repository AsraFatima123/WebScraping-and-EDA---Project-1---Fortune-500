{
 "cells": [
  {
   "cell_type": "code",
   "execution_count": 1,
   "id": "f81a6c67",
   "metadata": {},
   "outputs": [
    {
     "data": {
      "text/plain": [
       "'C:\\\\Users\\\\NAME\\\\Fortune500'"
      ]
     },
     "execution_count": 1,
     "metadata": {},
     "output_type": "execute_result"
    }
   ],
   "source": [
    "import os\n",
    "os.getcwd()"
   ]
  },
  {
   "cell_type": "code",
   "execution_count": 2,
   "id": "55d7799e",
   "metadata": {},
   "outputs": [],
   "source": [
    "import pandas as pd\n",
    "import numpy as np\n",
    "import time\n",
    "import matplotlib.pyplot as plt\n",
    "import seaborn as sns\n",
    "import re\n",
    "import warnings\n",
    "warnings.filterwarnings('ignore')"
   ]
  },
  {
   "cell_type": "code",
   "execution_count": 3,
   "id": "1193817b",
   "metadata": {},
   "outputs": [],
   "source": [
    "fortune_data=pd.read_csv(\"C:\\\\Users\\\\NAME\\\\Fortune500\\\\fortune500.csv\",encoding= 'unicode_escape')"
   ]
  },
  {
   "cell_type": "code",
   "execution_count": 4,
   "id": "d9fc4486",
   "metadata": {},
   "outputs": [
    {
     "data": {
      "text/html": [
       "<div>\n",
       "<style scoped>\n",
       "    .dataframe tbody tr th:only-of-type {\n",
       "        vertical-align: middle;\n",
       "    }\n",
       "\n",
       "    .dataframe tbody tr th {\n",
       "        vertical-align: top;\n",
       "    }\n",
       "\n",
       "    .dataframe thead th {\n",
       "        text-align: right;\n",
       "    }\n",
       "</style>\n",
       "<table border=\"1\" class=\"dataframe\">\n",
       "  <thead>\n",
       "    <tr style=\"text-align: right;\">\n",
       "      <th></th>\n",
       "      <th>Rank</th>\n",
       "      <th>Name</th>\n",
       "      <th>Revenues ($M)</th>\n",
       "      <th>Revenue Percent Change</th>\n",
       "      <th>Profits ($M)</th>\n",
       "      <th>Profits Percent Change</th>\n",
       "      <th>Assets ($M)</th>\n",
       "      <th>Market Value - as of March 31, 2022 ($M)</th>\n",
       "      <th>Change in Rank (Full 1000)</th>\n",
       "      <th>Employees</th>\n",
       "      <th>Change in Rank (500 only)</th>\n",
       "    </tr>\n",
       "  </thead>\n",
       "  <tbody>\n",
       "    <tr>\n",
       "      <th>0</th>\n",
       "      <td>1</td>\n",
       "      <td>Walmart</td>\n",
       "      <td>$572,754</td>\n",
       "      <td>2.4%</td>\n",
       "      <td>$13,673</td>\n",
       "      <td>1.2%</td>\n",
       "      <td>$244,860</td>\n",
       "      <td>$409,795</td>\n",
       "      <td>-</td>\n",
       "      <td>2,300,000</td>\n",
       "      <td>-</td>\n",
       "    </tr>\n",
       "    <tr>\n",
       "      <th>1</th>\n",
       "      <td>2</td>\n",
       "      <td>Amazon</td>\n",
       "      <td>$469,822</td>\n",
       "      <td>21.7%</td>\n",
       "      <td>$33,364</td>\n",
       "      <td>56.4%</td>\n",
       "      <td>$420,549</td>\n",
       "      <td>$1,658,807.3</td>\n",
       "      <td>-</td>\n",
       "      <td>1,608,000</td>\n",
       "      <td>-</td>\n",
       "    </tr>\n",
       "    <tr>\n",
       "      <th>2</th>\n",
       "      <td>3</td>\n",
       "      <td>Apple</td>\n",
       "      <td>$365,817</td>\n",
       "      <td>33.3%</td>\n",
       "      <td>$94,680</td>\n",
       "      <td>64.9%</td>\n",
       "      <td>$351,002</td>\n",
       "      <td>$2,849,537.6</td>\n",
       "      <td>-</td>\n",
       "      <td>154,000</td>\n",
       "      <td>-</td>\n",
       "    </tr>\n",
       "    <tr>\n",
       "      <th>3</th>\n",
       "      <td>4</td>\n",
       "      <td>CVS Health</td>\n",
       "      <td>$292,111</td>\n",
       "      <td>8.7%</td>\n",
       "      <td>$7,910</td>\n",
       "      <td>10.2%</td>\n",
       "      <td>$232,999</td>\n",
       "      <td>$132,839.2</td>\n",
       "      <td>-</td>\n",
       "      <td>258,000</td>\n",
       "      <td>-</td>\n",
       "    </tr>\n",
       "    <tr>\n",
       "      <th>4</th>\n",
       "      <td>5</td>\n",
       "      <td>UnitedHealth Group</td>\n",
       "      <td>$287,597</td>\n",
       "      <td>11.8%</td>\n",
       "      <td>$17,285</td>\n",
       "      <td>12.2%</td>\n",
       "      <td>$212,206</td>\n",
       "      <td>$479,830.3</td>\n",
       "      <td>-</td>\n",
       "      <td>350,000</td>\n",
       "      <td>-</td>\n",
       "    </tr>\n",
       "  </tbody>\n",
       "</table>\n",
       "</div>"
      ],
      "text/plain": [
       "   Rank                Name Revenues ($M) Revenue Percent Change Profits ($M)  \\\n",
       "0     1             Walmart      $572,754                   2.4%      $13,673   \n",
       "1     2              Amazon      $469,822                  21.7%      $33,364   \n",
       "2     3               Apple      $365,817                  33.3%      $94,680   \n",
       "3     4          CVS Health      $292,111                   8.7%       $7,910   \n",
       "4     5  UnitedHealth Group      $287,597                  11.8%      $17,285   \n",
       "\n",
       "  Profits Percent Change Assets ($M) Market Value - as of March 31, 2022 ($M)  \\\n",
       "0                   1.2%    $244,860                                 $409,795   \n",
       "1                  56.4%    $420,549                             $1,658,807.3   \n",
       "2                  64.9%    $351,002                             $2,849,537.6   \n",
       "3                  10.2%    $232,999                               $132,839.2   \n",
       "4                  12.2%    $212,206                               $479,830.3   \n",
       "\n",
       "  Change in Rank (Full 1000)  Employees Change in Rank (500 only)  \n",
       "0                          -  2,300,000                         -  \n",
       "1                          -  1,608,000                         -  \n",
       "2                          -    154,000                         -  \n",
       "3                          -    258,000                         -  \n",
       "4                          -    350,000                         -  "
      ]
     },
     "execution_count": 4,
     "metadata": {},
     "output_type": "execute_result"
    }
   ],
   "source": [
    "fortune_data.head(5)"
   ]
  },
  {
   "cell_type": "code",
   "execution_count": 5,
   "id": "9411f6db",
   "metadata": {},
   "outputs": [
    {
     "data": {
      "text/plain": [
       "(500, 11)"
      ]
     },
     "execution_count": 5,
     "metadata": {},
     "output_type": "execute_result"
    }
   ],
   "source": [
    "fortune_data.shape"
   ]
  },
  {
   "cell_type": "code",
   "execution_count": 6,
   "id": "fa1ede08",
   "metadata": {},
   "outputs": [],
   "source": [
    "fortune=fortune_data.copy()"
   ]
  },
  {
   "cell_type": "code",
   "execution_count": 7,
   "id": "7bb87816",
   "metadata": {},
   "outputs": [
    {
     "data": {
      "text/html": [
       "<div>\n",
       "<style scoped>\n",
       "    .dataframe tbody tr th:only-of-type {\n",
       "        vertical-align: middle;\n",
       "    }\n",
       "\n",
       "    .dataframe tbody tr th {\n",
       "        vertical-align: top;\n",
       "    }\n",
       "\n",
       "    .dataframe thead th {\n",
       "        text-align: right;\n",
       "    }\n",
       "</style>\n",
       "<table border=\"1\" class=\"dataframe\">\n",
       "  <thead>\n",
       "    <tr style=\"text-align: right;\">\n",
       "      <th></th>\n",
       "      <th>Rank</th>\n",
       "      <th>Name</th>\n",
       "      <th>Revenues ($M)</th>\n",
       "      <th>Revenue Percent Change</th>\n",
       "      <th>Profits ($M)</th>\n",
       "      <th>Profits Percent Change</th>\n",
       "      <th>Assets ($M)</th>\n",
       "      <th>Market Value - as of March 31, 2022 ($M)</th>\n",
       "      <th>Change in Rank (Full 1000)</th>\n",
       "      <th>Employees</th>\n",
       "      <th>Change in Rank (500 only)</th>\n",
       "    </tr>\n",
       "  </thead>\n",
       "  <tbody>\n",
       "    <tr>\n",
       "      <th>0</th>\n",
       "      <td>1</td>\n",
       "      <td>Walmart</td>\n",
       "      <td>$572,754</td>\n",
       "      <td>2.4%</td>\n",
       "      <td>$13,673</td>\n",
       "      <td>1.2%</td>\n",
       "      <td>$244,860</td>\n",
       "      <td>$409,795</td>\n",
       "      <td>-</td>\n",
       "      <td>2,300,000</td>\n",
       "      <td>-</td>\n",
       "    </tr>\n",
       "    <tr>\n",
       "      <th>1</th>\n",
       "      <td>2</td>\n",
       "      <td>Amazon</td>\n",
       "      <td>$469,822</td>\n",
       "      <td>21.7%</td>\n",
       "      <td>$33,364</td>\n",
       "      <td>56.4%</td>\n",
       "      <td>$420,549</td>\n",
       "      <td>$1,658,807.3</td>\n",
       "      <td>-</td>\n",
       "      <td>1,608,000</td>\n",
       "      <td>-</td>\n",
       "    </tr>\n",
       "    <tr>\n",
       "      <th>2</th>\n",
       "      <td>3</td>\n",
       "      <td>Apple</td>\n",
       "      <td>$365,817</td>\n",
       "      <td>33.3%</td>\n",
       "      <td>$94,680</td>\n",
       "      <td>64.9%</td>\n",
       "      <td>$351,002</td>\n",
       "      <td>$2,849,537.6</td>\n",
       "      <td>-</td>\n",
       "      <td>154,000</td>\n",
       "      <td>-</td>\n",
       "    </tr>\n",
       "    <tr>\n",
       "      <th>3</th>\n",
       "      <td>4</td>\n",
       "      <td>CVS Health</td>\n",
       "      <td>$292,111</td>\n",
       "      <td>8.7%</td>\n",
       "      <td>$7,910</td>\n",
       "      <td>10.2%</td>\n",
       "      <td>$232,999</td>\n",
       "      <td>$132,839.2</td>\n",
       "      <td>-</td>\n",
       "      <td>258,000</td>\n",
       "      <td>-</td>\n",
       "    </tr>\n",
       "    <tr>\n",
       "      <th>4</th>\n",
       "      <td>5</td>\n",
       "      <td>UnitedHealth Group</td>\n",
       "      <td>$287,597</td>\n",
       "      <td>11.8%</td>\n",
       "      <td>$17,285</td>\n",
       "      <td>12.2%</td>\n",
       "      <td>$212,206</td>\n",
       "      <td>$479,830.3</td>\n",
       "      <td>-</td>\n",
       "      <td>350,000</td>\n",
       "      <td>-</td>\n",
       "    </tr>\n",
       "  </tbody>\n",
       "</table>\n",
       "</div>"
      ],
      "text/plain": [
       "   Rank                Name Revenues ($M) Revenue Percent Change Profits ($M)  \\\n",
       "0     1             Walmart      $572,754                   2.4%      $13,673   \n",
       "1     2              Amazon      $469,822                  21.7%      $33,364   \n",
       "2     3               Apple      $365,817                  33.3%      $94,680   \n",
       "3     4          CVS Health      $292,111                   8.7%       $7,910   \n",
       "4     5  UnitedHealth Group      $287,597                  11.8%      $17,285   \n",
       "\n",
       "  Profits Percent Change Assets ($M) Market Value - as of March 31, 2022 ($M)  \\\n",
       "0                   1.2%    $244,860                                 $409,795   \n",
       "1                  56.4%    $420,549                             $1,658,807.3   \n",
       "2                  64.9%    $351,002                             $2,849,537.6   \n",
       "3                  10.2%    $232,999                               $132,839.2   \n",
       "4                  12.2%    $212,206                               $479,830.3   \n",
       "\n",
       "  Change in Rank (Full 1000)  Employees Change in Rank (500 only)  \n",
       "0                          -  2,300,000                         -  \n",
       "1                          -  1,608,000                         -  \n",
       "2                          -    154,000                         -  \n",
       "3                          -    258,000                         -  \n",
       "4                          -    350,000                         -  "
      ]
     },
     "execution_count": 7,
     "metadata": {},
     "output_type": "execute_result"
    }
   ],
   "source": [
    "fortune.head()"
   ]
  },
  {
   "cell_type": "code",
   "execution_count": 8,
   "id": "fa4ef391",
   "metadata": {},
   "outputs": [
    {
     "data": {
      "text/plain": [
       "Rank                                         int64\n",
       "Name                                        object\n",
       "Revenues ($M)                               object\n",
       "Revenue Percent Change                      object\n",
       "Profits ($M)                                object\n",
       "Profits Percent Change                      object\n",
       "Assets ($M)                                 object\n",
       "Market Value - as of March 31, 2022 ($M)    object\n",
       "Change in Rank (Full 1000)                  object\n",
       "Employees                                   object\n",
       "Change in Rank (500 only)                   object\n",
       "dtype: object"
      ]
     },
     "execution_count": 8,
     "metadata": {},
     "output_type": "execute_result"
    }
   ],
   "source": [
    "fortune.dtypes"
   ]
  },
  {
   "cell_type": "code",
   "execution_count": 9,
   "id": "d1eea146",
   "metadata": {},
   "outputs": [
    {
     "name": "stdout",
     "output_type": "stream",
     "text": [
      "<class 'pandas.core.frame.DataFrame'>\n",
      "RangeIndex: 500 entries, 0 to 499\n",
      "Data columns (total 11 columns):\n",
      " #   Column                                    Non-Null Count  Dtype \n",
      "---  ------                                    --------------  ----- \n",
      " 0   Rank                                      500 non-null    int64 \n",
      " 1   Name                                      500 non-null    object\n",
      " 2   Revenues ($M)                             500 non-null    object\n",
      " 3   Revenue Percent Change                    500 non-null    object\n",
      " 4   Profits ($M)                              500 non-null    object\n",
      " 5   Profits Percent Change                    500 non-null    object\n",
      " 6   Assets ($M)                               500 non-null    object\n",
      " 7   Market Value - as of March 31, 2022 ($M)  500 non-null    object\n",
      " 8   Change in Rank (Full 1000)                500 non-null    object\n",
      " 9   Employees                                 500 non-null    object\n",
      " 10  Change in Rank (500 only)                 500 non-null    object\n",
      "dtypes: int64(1), object(10)\n",
      "memory usage: 43.1+ KB\n"
     ]
    }
   ],
   "source": [
    "fortune.info()"
   ]
  },
  {
   "cell_type": "code",
   "execution_count": 10,
   "id": "087bc8d6",
   "metadata": {},
   "outputs": [
    {
     "data": {
      "text/plain": [
       "Rank                                        0\n",
       "Name                                        0\n",
       "Revenues ($M)                               0\n",
       "Revenue Percent Change                      0\n",
       "Profits ($M)                                0\n",
       "Profits Percent Change                      0\n",
       "Assets ($M)                                 0\n",
       "Market Value - as of March 31, 2022 ($M)    0\n",
       "Change in Rank (Full 1000)                  0\n",
       "Employees                                   0\n",
       "Change in Rank (500 only)                   0\n",
       "dtype: int64"
      ]
     },
     "execution_count": 10,
     "metadata": {},
     "output_type": "execute_result"
    }
   ],
   "source": [
    "fortune.isnull().sum()"
   ]
  },
  {
   "cell_type": "code",
   "execution_count": 11,
   "id": "a38c5c0d",
   "metadata": {},
   "outputs": [
    {
     "data": {
      "text/plain": [
       "Rank                                        499\n",
       "Name                                        500\n",
       "Revenues ($M)                               499\n",
       "Revenue Percent Change                      345\n",
       "Profits ($M)                                495\n",
       "Profits Percent Change                      350\n",
       "Assets ($M)                                 498\n",
       "Market Value - as of March 31, 2022 ($M)    476\n",
       "Change in Rank (Full 1000)                  170\n",
       "Employees                                   420\n",
       "Change in Rank (500 only)                   151\n",
       "dtype: int64"
      ]
     },
     "execution_count": 11,
     "metadata": {},
     "output_type": "execute_result"
    }
   ],
   "source": [
    "fortune.nunique()"
   ]
  },
  {
   "cell_type": "code",
   "execution_count": null,
   "id": "7989d174",
   "metadata": {},
   "outputs": [],
   "source": []
  },
  {
   "cell_type": "code",
   "execution_count": 12,
   "id": "f4e57e6d",
   "metadata": {},
   "outputs": [
    {
     "data": {
      "text/plain": [
       "499"
      ]
     },
     "execution_count": 12,
     "metadata": {},
     "output_type": "execute_result"
    }
   ],
   "source": [
    "fortune[\"Rank\"].nunique()"
   ]
  },
  {
   "cell_type": "code",
   "execution_count": 13,
   "id": "9f9f4255",
   "metadata": {},
   "outputs": [
    {
     "data": {
      "text/html": [
       "<div>\n",
       "<style scoped>\n",
       "    .dataframe tbody tr th:only-of-type {\n",
       "        vertical-align: middle;\n",
       "    }\n",
       "\n",
       "    .dataframe tbody tr th {\n",
       "        vertical-align: top;\n",
       "    }\n",
       "\n",
       "    .dataframe thead th {\n",
       "        text-align: right;\n",
       "    }\n",
       "</style>\n",
       "<table border=\"1\" class=\"dataframe\">\n",
       "  <thead>\n",
       "    <tr style=\"text-align: right;\">\n",
       "      <th></th>\n",
       "      <th>Rank</th>\n",
       "      <th>Name</th>\n",
       "      <th>Revenues ($M)</th>\n",
       "      <th>Revenue Percent Change</th>\n",
       "      <th>Profits ($M)</th>\n",
       "      <th>Profits Percent Change</th>\n",
       "      <th>Assets ($M)</th>\n",
       "      <th>Market Value - as of March 31, 2022 ($M)</th>\n",
       "      <th>Change in Rank (Full 1000)</th>\n",
       "      <th>Employees</th>\n",
       "      <th>Change in Rank (500 only)</th>\n",
       "    </tr>\n",
       "  </thead>\n",
       "  <tbody>\n",
       "    <tr>\n",
       "      <th>0</th>\n",
       "      <td>1</td>\n",
       "      <td>Walmart</td>\n",
       "      <td>$572,754</td>\n",
       "      <td>2.4%</td>\n",
       "      <td>$13,673</td>\n",
       "      <td>1.2%</td>\n",
       "      <td>$244,860</td>\n",
       "      <td>$409,795</td>\n",
       "      <td>-</td>\n",
       "      <td>2,300,000</td>\n",
       "      <td>-</td>\n",
       "    </tr>\n",
       "  </tbody>\n",
       "</table>\n",
       "</div>"
      ],
      "text/plain": [
       "   Rank     Name Revenues ($M) Revenue Percent Change Profits ($M)  \\\n",
       "0     1  Walmart      $572,754                   2.4%      $13,673   \n",
       "\n",
       "  Profits Percent Change Assets ($M) Market Value - as of March 31, 2022 ($M)  \\\n",
       "0                   1.2%    $244,860                                 $409,795   \n",
       "\n",
       "  Change in Rank (Full 1000)  Employees Change in Rank (500 only)  \n",
       "0                          -  2,300,000                         -  "
      ]
     },
     "execution_count": 13,
     "metadata": {},
     "output_type": "execute_result"
    }
   ],
   "source": [
    "fortune.head(1)"
   ]
  },
  {
   "cell_type": "markdown",
   "id": "b4d3a09f",
   "metadata": {},
   "source": [
    "# DATA CLEANING"
   ]
  },
  {
   "cell_type": "markdown",
   "id": "71229c97",
   "metadata": {},
   "source": [
    "## Step 1: Dropping the unnecessary columns"
   ]
  },
  {
   "cell_type": "code",
   "execution_count": 14,
   "id": "cd717658",
   "metadata": {},
   "outputs": [],
   "source": [
    "fortune.drop(\"Change in Rank (Full 1000)\", axis=1, inplace=True)"
   ]
  },
  {
   "cell_type": "code",
   "execution_count": 15,
   "id": "735129b8",
   "metadata": {},
   "outputs": [
    {
     "data": {
      "text/html": [
       "<div>\n",
       "<style scoped>\n",
       "    .dataframe tbody tr th:only-of-type {\n",
       "        vertical-align: middle;\n",
       "    }\n",
       "\n",
       "    .dataframe tbody tr th {\n",
       "        vertical-align: top;\n",
       "    }\n",
       "\n",
       "    .dataframe thead th {\n",
       "        text-align: right;\n",
       "    }\n",
       "</style>\n",
       "<table border=\"1\" class=\"dataframe\">\n",
       "  <thead>\n",
       "    <tr style=\"text-align: right;\">\n",
       "      <th></th>\n",
       "      <th>Rank</th>\n",
       "      <th>Name</th>\n",
       "      <th>Revenues ($M)</th>\n",
       "      <th>Revenue Percent Change</th>\n",
       "      <th>Profits ($M)</th>\n",
       "      <th>Profits Percent Change</th>\n",
       "      <th>Assets ($M)</th>\n",
       "      <th>Market Value - as of March 31, 2022 ($M)</th>\n",
       "      <th>Employees</th>\n",
       "      <th>Change in Rank (500 only)</th>\n",
       "    </tr>\n",
       "  </thead>\n",
       "  <tbody>\n",
       "    <tr>\n",
       "      <th>0</th>\n",
       "      <td>1</td>\n",
       "      <td>Walmart</td>\n",
       "      <td>$572,754</td>\n",
       "      <td>2.4%</td>\n",
       "      <td>$13,673</td>\n",
       "      <td>1.2%</td>\n",
       "      <td>$244,860</td>\n",
       "      <td>$409,795</td>\n",
       "      <td>2,300,000</td>\n",
       "      <td>-</td>\n",
       "    </tr>\n",
       "  </tbody>\n",
       "</table>\n",
       "</div>"
      ],
      "text/plain": [
       "   Rank     Name Revenues ($M) Revenue Percent Change Profits ($M)  \\\n",
       "0     1  Walmart      $572,754                   2.4%      $13,673   \n",
       "\n",
       "  Profits Percent Change Assets ($M) Market Value - as of March 31, 2022 ($M)  \\\n",
       "0                   1.2%    $244,860                                 $409,795   \n",
       "\n",
       "   Employees Change in Rank (500 only)  \n",
       "0  2,300,000                         -  "
      ]
     },
     "execution_count": 15,
     "metadata": {},
     "output_type": "execute_result"
    }
   ],
   "source": [
    "fortune.head(1)"
   ]
  },
  {
   "cell_type": "code",
   "execution_count": 16,
   "id": "0930bd9f",
   "metadata": {},
   "outputs": [],
   "source": [
    "fortune.drop(\"Change in Rank (500 only)\", axis=1, inplace=True) "
   ]
  },
  {
   "cell_type": "code",
   "execution_count": 17,
   "id": "a5b7d76f",
   "metadata": {},
   "outputs": [
    {
     "data": {
      "text/html": [
       "<div>\n",
       "<style scoped>\n",
       "    .dataframe tbody tr th:only-of-type {\n",
       "        vertical-align: middle;\n",
       "    }\n",
       "\n",
       "    .dataframe tbody tr th {\n",
       "        vertical-align: top;\n",
       "    }\n",
       "\n",
       "    .dataframe thead th {\n",
       "        text-align: right;\n",
       "    }\n",
       "</style>\n",
       "<table border=\"1\" class=\"dataframe\">\n",
       "  <thead>\n",
       "    <tr style=\"text-align: right;\">\n",
       "      <th></th>\n",
       "      <th>Rank</th>\n",
       "      <th>Name</th>\n",
       "      <th>Revenues ($M)</th>\n",
       "      <th>Revenue Percent Change</th>\n",
       "      <th>Profits ($M)</th>\n",
       "      <th>Profits Percent Change</th>\n",
       "      <th>Assets ($M)</th>\n",
       "      <th>Market Value - as of March 31, 2022 ($M)</th>\n",
       "      <th>Employees</th>\n",
       "    </tr>\n",
       "  </thead>\n",
       "  <tbody>\n",
       "    <tr>\n",
       "      <th>0</th>\n",
       "      <td>1</td>\n",
       "      <td>Walmart</td>\n",
       "      <td>$572,754</td>\n",
       "      <td>2.4%</td>\n",
       "      <td>$13,673</td>\n",
       "      <td>1.2%</td>\n",
       "      <td>$244,860</td>\n",
       "      <td>$409,795</td>\n",
       "      <td>2,300,000</td>\n",
       "    </tr>\n",
       "  </tbody>\n",
       "</table>\n",
       "</div>"
      ],
      "text/plain": [
       "   Rank     Name Revenues ($M) Revenue Percent Change Profits ($M)  \\\n",
       "0     1  Walmart      $572,754                   2.4%      $13,673   \n",
       "\n",
       "  Profits Percent Change Assets ($M) Market Value - as of March 31, 2022 ($M)  \\\n",
       "0                   1.2%    $244,860                                 $409,795   \n",
       "\n",
       "   Employees  \n",
       "0  2,300,000  "
      ]
     },
     "execution_count": 17,
     "metadata": {},
     "output_type": "execute_result"
    }
   ],
   "source": [
    "fortune.head(1)"
   ]
  },
  {
   "cell_type": "code",
   "execution_count": 18,
   "id": "e1c60468",
   "metadata": {},
   "outputs": [
    {
     "data": {
      "text/plain": [
       "Rank                                         int64\n",
       "Name                                        object\n",
       "Revenues ($M)                               object\n",
       "Revenue Percent Change                      object\n",
       "Profits ($M)                                object\n",
       "Profits Percent Change                      object\n",
       "Assets ($M)                                 object\n",
       "Market Value - as of March 31, 2022 ($M)    object\n",
       "Employees                                   object\n",
       "dtype: object"
      ]
     },
     "execution_count": 18,
     "metadata": {},
     "output_type": "execute_result"
    }
   ],
   "source": [
    "fortune.dtypes"
   ]
  },
  {
   "cell_type": "markdown",
   "id": "e3972565",
   "metadata": {},
   "source": [
    "##### Checking the size of the data set "
   ]
  },
  {
   "cell_type": "code",
   "execution_count": 19,
   "id": "cd23418f",
   "metadata": {},
   "outputs": [
    {
     "data": {
      "text/plain": [
       "(500, 9)"
      ]
     },
     "execution_count": 19,
     "metadata": {},
     "output_type": "execute_result"
    }
   ],
   "source": [
    "fortune.shape"
   ]
  },
  {
   "cell_type": "markdown",
   "id": "0088fdce",
   "metadata": {},
   "source": [
    "##### Using loc function to pull the Revenues of the Top 3 companies"
   ]
  },
  {
   "cell_type": "code",
   "execution_count": 20,
   "id": "6206a32b",
   "metadata": {},
   "outputs": [
    {
     "data": {
      "text/html": [
       "<div>\n",
       "<style scoped>\n",
       "    .dataframe tbody tr th:only-of-type {\n",
       "        vertical-align: middle;\n",
       "    }\n",
       "\n",
       "    .dataframe tbody tr th {\n",
       "        vertical-align: top;\n",
       "    }\n",
       "\n",
       "    .dataframe thead th {\n",
       "        text-align: right;\n",
       "    }\n",
       "</style>\n",
       "<table border=\"1\" class=\"dataframe\">\n",
       "  <thead>\n",
       "    <tr style=\"text-align: right;\">\n",
       "      <th></th>\n",
       "      <th>Revenues ($M)</th>\n",
       "    </tr>\n",
       "  </thead>\n",
       "  <tbody>\n",
       "    <tr>\n",
       "      <th>0</th>\n",
       "      <td>$572,754</td>\n",
       "    </tr>\n",
       "    <tr>\n",
       "      <th>1</th>\n",
       "      <td>$469,822</td>\n",
       "    </tr>\n",
       "    <tr>\n",
       "      <th>2</th>\n",
       "      <td>$365,817</td>\n",
       "    </tr>\n",
       "  </tbody>\n",
       "</table>\n",
       "</div>"
      ],
      "text/plain": [
       "  Revenues ($M)\n",
       "0      $572,754\n",
       "1      $469,822\n",
       "2      $365,817"
      ]
     },
     "execution_count": 20,
     "metadata": {},
     "output_type": "execute_result"
    }
   ],
   "source": [
    "fortune.loc[0:2,['Revenues ($M)']]\n"
   ]
  },
  {
   "cell_type": "markdown",
   "id": "0ac4651e",
   "metadata": {},
   "source": [
    "## Step 2: Cleaning the data by removing special characters from all numeric columns"
   ]
  },
  {
   "cell_type": "markdown",
   "id": "6e341417",
   "metadata": {},
   "source": [
    "#### Cleaning the Revenues ($M) column"
   ]
  },
  {
   "cell_type": "code",
   "execution_count": 21,
   "id": "f0ac0edb",
   "metadata": {},
   "outputs": [],
   "source": [
    "fortune['Revenues ($M)']=fortune['Revenues ($M)'].apply(lambda x: x.replace('$','').replace(',',''))\n"
   ]
  },
  {
   "cell_type": "code",
   "execution_count": 22,
   "id": "d98d6a82",
   "metadata": {},
   "outputs": [
    {
     "data": {
      "text/plain": [
       "0      572754\n",
       "1      469822\n",
       "2      365817\n",
       "3      292111\n",
       "4      287597\n",
       "        ...  \n",
       "495    6420.4\n",
       "496    6415.8\n",
       "497    6412.6\n",
       "498      6411\n",
       "499      6394\n",
       "Name: Revenues ($M), Length: 500, dtype: object"
      ]
     },
     "execution_count": 22,
     "metadata": {},
     "output_type": "execute_result"
    }
   ],
   "source": [
    "fortune['Revenues ($M)']"
   ]
  },
  {
   "cell_type": "code",
   "execution_count": 23,
   "id": "5e5a0e73",
   "metadata": {},
   "outputs": [
    {
     "data": {
      "text/html": [
       "<div>\n",
       "<style scoped>\n",
       "    .dataframe tbody tr th:only-of-type {\n",
       "        vertical-align: middle;\n",
       "    }\n",
       "\n",
       "    .dataframe tbody tr th {\n",
       "        vertical-align: top;\n",
       "    }\n",
       "\n",
       "    .dataframe thead th {\n",
       "        text-align: right;\n",
       "    }\n",
       "</style>\n",
       "<table border=\"1\" class=\"dataframe\">\n",
       "  <thead>\n",
       "    <tr style=\"text-align: right;\">\n",
       "      <th></th>\n",
       "      <th>Rank</th>\n",
       "      <th>Name</th>\n",
       "      <th>Revenues ($M)</th>\n",
       "      <th>Revenue Percent Change</th>\n",
       "      <th>Profits ($M)</th>\n",
       "      <th>Profits Percent Change</th>\n",
       "      <th>Assets ($M)</th>\n",
       "      <th>Market Value - as of March 31, 2022 ($M)</th>\n",
       "      <th>Employees</th>\n",
       "    </tr>\n",
       "  </thead>\n",
       "  <tbody>\n",
       "    <tr>\n",
       "      <th>0</th>\n",
       "      <td>1</td>\n",
       "      <td>Walmart</td>\n",
       "      <td>572754</td>\n",
       "      <td>2.4%</td>\n",
       "      <td>$13,673</td>\n",
       "      <td>1.2%</td>\n",
       "      <td>$244,860</td>\n",
       "      <td>$409,795</td>\n",
       "      <td>2,300,000</td>\n",
       "    </tr>\n",
       "  </tbody>\n",
       "</table>\n",
       "</div>"
      ],
      "text/plain": [
       "   Rank     Name Revenues ($M) Revenue Percent Change Profits ($M)  \\\n",
       "0     1  Walmart        572754                   2.4%      $13,673   \n",
       "\n",
       "  Profits Percent Change Assets ($M) Market Value - as of March 31, 2022 ($M)  \\\n",
       "0                   1.2%    $244,860                                 $409,795   \n",
       "\n",
       "   Employees  \n",
       "0  2,300,000  "
      ]
     },
     "execution_count": 23,
     "metadata": {},
     "output_type": "execute_result"
    }
   ],
   "source": [
    "fortune.head(1)"
   ]
  },
  {
   "cell_type": "markdown",
   "id": "84f07585",
   "metadata": {},
   "source": [
    "#### Cleaning the \"Revenue Percent Change\" column"
   ]
  },
  {
   "cell_type": "code",
   "execution_count": 24,
   "id": "0b50248b",
   "metadata": {},
   "outputs": [],
   "source": [
    "fortune['Revenue Percent Change']=fortune['Revenue Percent Change'].apply(lambda x : x.replace('%',''))"
   ]
  },
  {
   "cell_type": "code",
   "execution_count": 25,
   "id": "670e1f4e",
   "metadata": {},
   "outputs": [
    {
     "data": {
      "text/html": [
       "<div>\n",
       "<style scoped>\n",
       "    .dataframe tbody tr th:only-of-type {\n",
       "        vertical-align: middle;\n",
       "    }\n",
       "\n",
       "    .dataframe tbody tr th {\n",
       "        vertical-align: top;\n",
       "    }\n",
       "\n",
       "    .dataframe thead th {\n",
       "        text-align: right;\n",
       "    }\n",
       "</style>\n",
       "<table border=\"1\" class=\"dataframe\">\n",
       "  <thead>\n",
       "    <tr style=\"text-align: right;\">\n",
       "      <th></th>\n",
       "      <th>Rank</th>\n",
       "      <th>Name</th>\n",
       "      <th>Revenues ($M)</th>\n",
       "      <th>Revenue Percent Change</th>\n",
       "      <th>Profits ($M)</th>\n",
       "      <th>Profits Percent Change</th>\n",
       "      <th>Assets ($M)</th>\n",
       "      <th>Market Value - as of March 31, 2022 ($M)</th>\n",
       "      <th>Employees</th>\n",
       "    </tr>\n",
       "  </thead>\n",
       "  <tbody>\n",
       "    <tr>\n",
       "      <th>0</th>\n",
       "      <td>1</td>\n",
       "      <td>Walmart</td>\n",
       "      <td>572754</td>\n",
       "      <td>2.4</td>\n",
       "      <td>$13,673</td>\n",
       "      <td>1.2%</td>\n",
       "      <td>$244,860</td>\n",
       "      <td>$409,795</td>\n",
       "      <td>2,300,000</td>\n",
       "    </tr>\n",
       "  </tbody>\n",
       "</table>\n",
       "</div>"
      ],
      "text/plain": [
       "   Rank     Name Revenues ($M) Revenue Percent Change Profits ($M)  \\\n",
       "0     1  Walmart        572754                    2.4      $13,673   \n",
       "\n",
       "  Profits Percent Change Assets ($M) Market Value - as of March 31, 2022 ($M)  \\\n",
       "0                   1.2%    $244,860                                 $409,795   \n",
       "\n",
       "   Employees  \n",
       "0  2,300,000  "
      ]
     },
     "execution_count": 25,
     "metadata": {},
     "output_type": "execute_result"
    }
   ],
   "source": [
    "fortune.head(1)"
   ]
  },
  {
   "cell_type": "markdown",
   "id": "fbddf839",
   "metadata": {},
   "source": [
    "#### Cleaning the \"Profits ($M)\" column"
   ]
  },
  {
   "cell_type": "code",
   "execution_count": 26,
   "id": "795a5163",
   "metadata": {},
   "outputs": [],
   "source": [
    "fortune['Profits ($M)']=fortune['Profits ($M)'].apply(lambda x: x.replace('$','').replace(',',''))"
   ]
  },
  {
   "cell_type": "code",
   "execution_count": 27,
   "id": "3f11caa5",
   "metadata": {},
   "outputs": [
    {
     "data": {
      "text/html": [
       "<div>\n",
       "<style scoped>\n",
       "    .dataframe tbody tr th:only-of-type {\n",
       "        vertical-align: middle;\n",
       "    }\n",
       "\n",
       "    .dataframe tbody tr th {\n",
       "        vertical-align: top;\n",
       "    }\n",
       "\n",
       "    .dataframe thead th {\n",
       "        text-align: right;\n",
       "    }\n",
       "</style>\n",
       "<table border=\"1\" class=\"dataframe\">\n",
       "  <thead>\n",
       "    <tr style=\"text-align: right;\">\n",
       "      <th></th>\n",
       "      <th>Rank</th>\n",
       "      <th>Name</th>\n",
       "      <th>Revenues ($M)</th>\n",
       "      <th>Revenue Percent Change</th>\n",
       "      <th>Profits ($M)</th>\n",
       "      <th>Profits Percent Change</th>\n",
       "      <th>Assets ($M)</th>\n",
       "      <th>Market Value - as of March 31, 2022 ($M)</th>\n",
       "      <th>Employees</th>\n",
       "    </tr>\n",
       "  </thead>\n",
       "  <tbody>\n",
       "    <tr>\n",
       "      <th>0</th>\n",
       "      <td>1</td>\n",
       "      <td>Walmart</td>\n",
       "      <td>572754</td>\n",
       "      <td>2.4</td>\n",
       "      <td>13673</td>\n",
       "      <td>1.2%</td>\n",
       "      <td>$244,860</td>\n",
       "      <td>$409,795</td>\n",
       "      <td>2,300,000</td>\n",
       "    </tr>\n",
       "  </tbody>\n",
       "</table>\n",
       "</div>"
      ],
      "text/plain": [
       "   Rank     Name Revenues ($M) Revenue Percent Change Profits ($M)  \\\n",
       "0     1  Walmart        572754                    2.4        13673   \n",
       "\n",
       "  Profits Percent Change Assets ($M) Market Value - as of March 31, 2022 ($M)  \\\n",
       "0                   1.2%    $244,860                                 $409,795   \n",
       "\n",
       "   Employees  \n",
       "0  2,300,000  "
      ]
     },
     "execution_count": 27,
     "metadata": {},
     "output_type": "execute_result"
    }
   ],
   "source": [
    "fortune.head(1)"
   ]
  },
  {
   "cell_type": "markdown",
   "id": "21678705",
   "metadata": {},
   "source": [
    "#### Cleaning the \"Profits Percent Change\" column"
   ]
  },
  {
   "cell_type": "code",
   "execution_count": 28,
   "id": "3354c49a",
   "metadata": {},
   "outputs": [],
   "source": [
    "fortune['Profits Percent Change']=fortune['Profits Percent Change'].apply(lambda x: x.replace('%',''))"
   ]
  },
  {
   "cell_type": "code",
   "execution_count": 29,
   "id": "58cb9c42",
   "metadata": {},
   "outputs": [
    {
     "data": {
      "text/html": [
       "<div>\n",
       "<style scoped>\n",
       "    .dataframe tbody tr th:only-of-type {\n",
       "        vertical-align: middle;\n",
       "    }\n",
       "\n",
       "    .dataframe tbody tr th {\n",
       "        vertical-align: top;\n",
       "    }\n",
       "\n",
       "    .dataframe thead th {\n",
       "        text-align: right;\n",
       "    }\n",
       "</style>\n",
       "<table border=\"1\" class=\"dataframe\">\n",
       "  <thead>\n",
       "    <tr style=\"text-align: right;\">\n",
       "      <th></th>\n",
       "      <th>Rank</th>\n",
       "      <th>Name</th>\n",
       "      <th>Revenues ($M)</th>\n",
       "      <th>Revenue Percent Change</th>\n",
       "      <th>Profits ($M)</th>\n",
       "      <th>Profits Percent Change</th>\n",
       "      <th>Assets ($M)</th>\n",
       "      <th>Market Value - as of March 31, 2022 ($M)</th>\n",
       "      <th>Employees</th>\n",
       "    </tr>\n",
       "  </thead>\n",
       "  <tbody>\n",
       "    <tr>\n",
       "      <th>0</th>\n",
       "      <td>1</td>\n",
       "      <td>Walmart</td>\n",
       "      <td>572754</td>\n",
       "      <td>2.4</td>\n",
       "      <td>13673</td>\n",
       "      <td>1.2</td>\n",
       "      <td>$244,860</td>\n",
       "      <td>$409,795</td>\n",
       "      <td>2,300,000</td>\n",
       "    </tr>\n",
       "  </tbody>\n",
       "</table>\n",
       "</div>"
      ],
      "text/plain": [
       "   Rank     Name Revenues ($M) Revenue Percent Change Profits ($M)  \\\n",
       "0     1  Walmart        572754                    2.4        13673   \n",
       "\n",
       "  Profits Percent Change Assets ($M) Market Value - as of March 31, 2022 ($M)  \\\n",
       "0                    1.2    $244,860                                 $409,795   \n",
       "\n",
       "   Employees  \n",
       "0  2,300,000  "
      ]
     },
     "execution_count": 29,
     "metadata": {},
     "output_type": "execute_result"
    }
   ],
   "source": [
    "fortune.head(1)"
   ]
  },
  {
   "cell_type": "markdown",
   "id": "19a5a1a9",
   "metadata": {},
   "source": [
    "#### Cleaning the \"Assets ($M)\" column"
   ]
  },
  {
   "cell_type": "code",
   "execution_count": 30,
   "id": "7e0874f7",
   "metadata": {},
   "outputs": [],
   "source": [
    "fortune['Assets ($M)']=fortune['Assets ($M)'].apply(lambda x: x.replace('$','').replace(',',''))"
   ]
  },
  {
   "cell_type": "code",
   "execution_count": 31,
   "id": "b1a164bd",
   "metadata": {},
   "outputs": [
    {
     "data": {
      "text/html": [
       "<div>\n",
       "<style scoped>\n",
       "    .dataframe tbody tr th:only-of-type {\n",
       "        vertical-align: middle;\n",
       "    }\n",
       "\n",
       "    .dataframe tbody tr th {\n",
       "        vertical-align: top;\n",
       "    }\n",
       "\n",
       "    .dataframe thead th {\n",
       "        text-align: right;\n",
       "    }\n",
       "</style>\n",
       "<table border=\"1\" class=\"dataframe\">\n",
       "  <thead>\n",
       "    <tr style=\"text-align: right;\">\n",
       "      <th></th>\n",
       "      <th>Rank</th>\n",
       "      <th>Name</th>\n",
       "      <th>Revenues ($M)</th>\n",
       "      <th>Revenue Percent Change</th>\n",
       "      <th>Profits ($M)</th>\n",
       "      <th>Profits Percent Change</th>\n",
       "      <th>Assets ($M)</th>\n",
       "      <th>Market Value - as of March 31, 2022 ($M)</th>\n",
       "      <th>Employees</th>\n",
       "    </tr>\n",
       "  </thead>\n",
       "  <tbody>\n",
       "    <tr>\n",
       "      <th>0</th>\n",
       "      <td>1</td>\n",
       "      <td>Walmart</td>\n",
       "      <td>572754</td>\n",
       "      <td>2.4</td>\n",
       "      <td>13673</td>\n",
       "      <td>1.2</td>\n",
       "      <td>244860</td>\n",
       "      <td>$409,795</td>\n",
       "      <td>2,300,000</td>\n",
       "    </tr>\n",
       "  </tbody>\n",
       "</table>\n",
       "</div>"
      ],
      "text/plain": [
       "   Rank     Name Revenues ($M) Revenue Percent Change Profits ($M)  \\\n",
       "0     1  Walmart        572754                    2.4        13673   \n",
       "\n",
       "  Profits Percent Change Assets ($M) Market Value - as of March 31, 2022 ($M)  \\\n",
       "0                    1.2      244860                                 $409,795   \n",
       "\n",
       "   Employees  \n",
       "0  2,300,000  "
      ]
     },
     "execution_count": 31,
     "metadata": {},
     "output_type": "execute_result"
    }
   ],
   "source": [
    "fortune.head(1)"
   ]
  },
  {
   "cell_type": "markdown",
   "id": "f166acdf",
   "metadata": {},
   "source": [
    "#### Cleaning the \"Market Value - as of March 31, 2022 ($M)\" column"
   ]
  },
  {
   "cell_type": "code",
   "execution_count": 32,
   "id": "fda8c301",
   "metadata": {},
   "outputs": [],
   "source": [
    "fortune['Market Value - as of March 31, 2022 ($M)']=fortune['Market Value - as of March 31, 2022 ($M)'].apply(lambda x: x.replace('$','').replace(',',''))"
   ]
  },
  {
   "cell_type": "code",
   "execution_count": 33,
   "id": "b55ad5cb",
   "metadata": {},
   "outputs": [
    {
     "data": {
      "text/html": [
       "<div>\n",
       "<style scoped>\n",
       "    .dataframe tbody tr th:only-of-type {\n",
       "        vertical-align: middle;\n",
       "    }\n",
       "\n",
       "    .dataframe tbody tr th {\n",
       "        vertical-align: top;\n",
       "    }\n",
       "\n",
       "    .dataframe thead th {\n",
       "        text-align: right;\n",
       "    }\n",
       "</style>\n",
       "<table border=\"1\" class=\"dataframe\">\n",
       "  <thead>\n",
       "    <tr style=\"text-align: right;\">\n",
       "      <th></th>\n",
       "      <th>Rank</th>\n",
       "      <th>Name</th>\n",
       "      <th>Revenues ($M)</th>\n",
       "      <th>Revenue Percent Change</th>\n",
       "      <th>Profits ($M)</th>\n",
       "      <th>Profits Percent Change</th>\n",
       "      <th>Assets ($M)</th>\n",
       "      <th>Market Value - as of March 31, 2022 ($M)</th>\n",
       "      <th>Employees</th>\n",
       "    </tr>\n",
       "  </thead>\n",
       "  <tbody>\n",
       "    <tr>\n",
       "      <th>0</th>\n",
       "      <td>1</td>\n",
       "      <td>Walmart</td>\n",
       "      <td>572754</td>\n",
       "      <td>2.4</td>\n",
       "      <td>13673</td>\n",
       "      <td>1.2</td>\n",
       "      <td>244860</td>\n",
       "      <td>409795</td>\n",
       "      <td>2,300,000</td>\n",
       "    </tr>\n",
       "  </tbody>\n",
       "</table>\n",
       "</div>"
      ],
      "text/plain": [
       "   Rank     Name Revenues ($M) Revenue Percent Change Profits ($M)  \\\n",
       "0     1  Walmart        572754                    2.4        13673   \n",
       "\n",
       "  Profits Percent Change Assets ($M) Market Value - as of March 31, 2022 ($M)  \\\n",
       "0                    1.2      244860                                   409795   \n",
       "\n",
       "   Employees  \n",
       "0  2,300,000  "
      ]
     },
     "execution_count": 33,
     "metadata": {},
     "output_type": "execute_result"
    }
   ],
   "source": [
    "fortune.head(1)"
   ]
  },
  {
   "cell_type": "markdown",
   "id": "62ae3499",
   "metadata": {},
   "source": [
    "#### Cleaning the \"Employees\" column"
   ]
  },
  {
   "cell_type": "code",
   "execution_count": 34,
   "id": "42705fcf",
   "metadata": {},
   "outputs": [],
   "source": [
    "fortune['Employees']=fortune['Employees'].apply(lambda x: x.replace(',',''))"
   ]
  },
  {
   "cell_type": "code",
   "execution_count": 35,
   "id": "7c5d4d6f",
   "metadata": {},
   "outputs": [
    {
     "data": {
      "text/html": [
       "<div>\n",
       "<style scoped>\n",
       "    .dataframe tbody tr th:only-of-type {\n",
       "        vertical-align: middle;\n",
       "    }\n",
       "\n",
       "    .dataframe tbody tr th {\n",
       "        vertical-align: top;\n",
       "    }\n",
       "\n",
       "    .dataframe thead th {\n",
       "        text-align: right;\n",
       "    }\n",
       "</style>\n",
       "<table border=\"1\" class=\"dataframe\">\n",
       "  <thead>\n",
       "    <tr style=\"text-align: right;\">\n",
       "      <th></th>\n",
       "      <th>Rank</th>\n",
       "      <th>Name</th>\n",
       "      <th>Revenues ($M)</th>\n",
       "      <th>Revenue Percent Change</th>\n",
       "      <th>Profits ($M)</th>\n",
       "      <th>Profits Percent Change</th>\n",
       "      <th>Assets ($M)</th>\n",
       "      <th>Market Value - as of March 31, 2022 ($M)</th>\n",
       "      <th>Employees</th>\n",
       "    </tr>\n",
       "  </thead>\n",
       "  <tbody>\n",
       "    <tr>\n",
       "      <th>0</th>\n",
       "      <td>1</td>\n",
       "      <td>Walmart</td>\n",
       "      <td>572754</td>\n",
       "      <td>2.4</td>\n",
       "      <td>13673</td>\n",
       "      <td>1.2</td>\n",
       "      <td>244860</td>\n",
       "      <td>409795</td>\n",
       "      <td>2300000</td>\n",
       "    </tr>\n",
       "  </tbody>\n",
       "</table>\n",
       "</div>"
      ],
      "text/plain": [
       "   Rank     Name Revenues ($M) Revenue Percent Change Profits ($M)  \\\n",
       "0     1  Walmart        572754                    2.4        13673   \n",
       "\n",
       "  Profits Percent Change Assets ($M) Market Value - as of March 31, 2022 ($M)  \\\n",
       "0                    1.2      244860                                   409795   \n",
       "\n",
       "  Employees  \n",
       "0   2300000  "
      ]
     },
     "execution_count": 35,
     "metadata": {},
     "output_type": "execute_result"
    }
   ],
   "source": [
    "fortune.head(1)"
   ]
  },
  {
   "cell_type": "markdown",
   "id": "c3db0165",
   "metadata": {},
   "source": [
    "## Step 3: Changing the data types of columns\n",
    "##### Before changing the data types,replacing the '-' values in each column by null values(np.NaN). "
   ]
  },
  {
   "cell_type": "code",
   "execution_count": 36,
   "id": "a26ea831",
   "metadata": {},
   "outputs": [
    {
     "data": {
      "text/plain": [
       "Rank                                         int64\n",
       "Name                                        object\n",
       "Revenues ($M)                               object\n",
       "Revenue Percent Change                      object\n",
       "Profits ($M)                                object\n",
       "Profits Percent Change                      object\n",
       "Assets ($M)                                 object\n",
       "Market Value - as of March 31, 2022 ($M)    object\n",
       "Employees                                   object\n",
       "dtype: object"
      ]
     },
     "execution_count": 36,
     "metadata": {},
     "output_type": "execute_result"
    }
   ],
   "source": [
    "# Checking the data types of each column in the data set\n",
    "fortune.dtypes"
   ]
  },
  {
   "cell_type": "markdown",
   "id": "fc6e13dc",
   "metadata": {},
   "source": [
    "##### - Revenues ($M) column does not have '-' characters so directly converting to float data type."
   ]
  },
  {
   "cell_type": "code",
   "execution_count": 37,
   "id": "f7dc99d0",
   "metadata": {},
   "outputs": [],
   "source": [
    "fortune['Revenues ($M)']=fortune['Revenues ($M)'].astype(float)"
   ]
  },
  {
   "cell_type": "code",
   "execution_count": 38,
   "id": "1c5066b1",
   "metadata": {},
   "outputs": [
    {
     "data": {
      "text/plain": [
       "Rank                                          int64\n",
       "Name                                         object\n",
       "Revenues ($M)                               float64\n",
       "Revenue Percent Change                       object\n",
       "Profits ($M)                                 object\n",
       "Profits Percent Change                       object\n",
       "Assets ($M)                                  object\n",
       "Market Value - as of March 31, 2022 ($M)     object\n",
       "Employees                                    object\n",
       "dtype: object"
      ]
     },
     "execution_count": 38,
     "metadata": {},
     "output_type": "execute_result"
    }
   ],
   "source": [
    "fortune.dtypes"
   ]
  },
  {
   "cell_type": "markdown",
   "id": "4064a761",
   "metadata": {},
   "source": [
    "##### - Converting '-' to null values in 'Revenue Percent Change' column"
   ]
  },
  {
   "cell_type": "code",
   "execution_count": 39,
   "id": "c11991cf",
   "metadata": {},
   "outputs": [],
   "source": [
    "fortune['Revenue Percent Change']=np.where(fortune['Revenue Percent Change']=='-',np.NaN,fortune['Revenue Percent Change'])"
   ]
  },
  {
   "cell_type": "code",
   "execution_count": 40,
   "id": "6ba34d7d",
   "metadata": {},
   "outputs": [
    {
     "data": {
      "text/plain": [
       "13       6\n",
       "21.7     5\n",
       "16.5     5\n",
       "18.3     5\n",
       "8        4\n",
       "        ..\n",
       "23.4     1\n",
       "6.6      1\n",
       "69       1\n",
       "11.1     1\n",
       "-10.4    1\n",
       "Name: Revenue Percent Change, Length: 344, dtype: int64"
      ]
     },
     "execution_count": 40,
     "metadata": {},
     "output_type": "execute_result"
    }
   ],
   "source": [
    "fortune['Revenue Percent Change'].value_counts()"
   ]
  },
  {
   "cell_type": "markdown",
   "id": "6743724f",
   "metadata": {},
   "source": [
    "##### Checking the number of null values"
   ]
  },
  {
   "cell_type": "code",
   "execution_count": 41,
   "id": "2fb215fa",
   "metadata": {},
   "outputs": [
    {
     "data": {
      "text/plain": [
       "3"
      ]
     },
     "execution_count": 41,
     "metadata": {},
     "output_type": "execute_result"
    }
   ],
   "source": [
    "fortune['Revenue Percent Change'].isnull().sum()"
   ]
  },
  {
   "cell_type": "markdown",
   "id": "1f1015bf",
   "metadata": {},
   "source": [
    "##### Converting to float data type."
   ]
  },
  {
   "cell_type": "code",
   "execution_count": 42,
   "id": "8bbcbc67",
   "metadata": {},
   "outputs": [],
   "source": [
    "fortune['Revenue Percent Change']=fortune['Revenue Percent Change'].astype(float)"
   ]
  },
  {
   "cell_type": "code",
   "execution_count": 43,
   "id": "e066dde9",
   "metadata": {},
   "outputs": [
    {
     "data": {
      "text/plain": [
       "dtype('float64')"
      ]
     },
     "execution_count": 43,
     "metadata": {},
     "output_type": "execute_result"
    }
   ],
   "source": [
    "fortune['Revenue Percent Change'].dtype"
   ]
  },
  {
   "cell_type": "code",
   "execution_count": null,
   "id": "2b744e4b",
   "metadata": {},
   "outputs": [],
   "source": []
  },
  {
   "cell_type": "markdown",
   "id": "d6ae0ae3",
   "metadata": {},
   "source": [
    "##### Cleaning and converting the data type of column -\"Profits ($M)\""
   ]
  },
  {
   "cell_type": "code",
   "execution_count": 44,
   "id": "6609a566",
   "metadata": {},
   "outputs": [],
   "source": [
    "fortune['Profits ($M)']=fortune['Profits ($M)'].apply(lambda x:x.replace('(','').replace(')',''))"
   ]
  },
  {
   "cell_type": "code",
   "execution_count": 45,
   "id": "db01236e",
   "metadata": {},
   "outputs": [],
   "source": [
    "fortune['Profits ($M)']=np.where(fortune['Profits ($M)']=='-',np.NaN,fortune['Profits ($M)'])"
   ]
  },
  {
   "cell_type": "code",
   "execution_count": 46,
   "id": "9556167e",
   "metadata": {},
   "outputs": [],
   "source": [
    "fortune['Profits ($M)']=fortune['Profits ($M)'].astype(float)"
   ]
  },
  {
   "cell_type": "code",
   "execution_count": 47,
   "id": "011e6ec2",
   "metadata": {},
   "outputs": [
    {
     "data": {
      "text/plain": [
       "dtype('float64')"
      ]
     },
     "execution_count": 47,
     "metadata": {},
     "output_type": "execute_result"
    }
   ],
   "source": [
    "fortune['Profits ($M)'].dtype"
   ]
  },
  {
   "cell_type": "code",
   "execution_count": 48,
   "id": "c8f9c3b5",
   "metadata": {},
   "outputs": [
    {
     "data": {
      "text/plain": [
       "1"
      ]
     },
     "execution_count": 48,
     "metadata": {},
     "output_type": "execute_result"
    }
   ],
   "source": [
    "fortune['Profits ($M)'].isnull().sum()"
   ]
  },
  {
   "cell_type": "code",
   "execution_count": null,
   "id": "75664bd8",
   "metadata": {},
   "outputs": [],
   "source": []
  },
  {
   "cell_type": "markdown",
   "id": "1a8dc92b",
   "metadata": {},
   "source": [
    "##### Cleaning and converting the data type of column -\"Profits Percent Change\""
   ]
  },
  {
   "cell_type": "code",
   "execution_count": 49,
   "id": "fffe5c1b",
   "metadata": {},
   "outputs": [],
   "source": [
    "fortune['Profits Percent Change']=np.where(fortune['Profits Percent Change']=='-',np.NaN,fortune['Profits Percent Change'])"
   ]
  },
  {
   "cell_type": "code",
   "execution_count": 50,
   "id": "fb5fc969",
   "metadata": {},
   "outputs": [],
   "source": [
    "fortune['Profits Percent Change']=fortune['Profits Percent Change'].astype(float)"
   ]
  },
  {
   "cell_type": "code",
   "execution_count": 51,
   "id": "8b41975b",
   "metadata": {},
   "outputs": [
    {
     "data": {
      "text/plain": [
       "dtype('float64')"
      ]
     },
     "execution_count": 51,
     "metadata": {},
     "output_type": "execute_result"
    }
   ],
   "source": [
    "fortune['Profits Percent Change'].dtype"
   ]
  },
  {
   "cell_type": "code",
   "execution_count": 52,
   "id": "a9482667",
   "metadata": {},
   "outputs": [
    {
     "data": {
      "text/plain": [
       "121"
      ]
     },
     "execution_count": 52,
     "metadata": {},
     "output_type": "execute_result"
    }
   ],
   "source": [
    "fortune['Profits Percent Change'].isnull().sum()"
   ]
  },
  {
   "cell_type": "code",
   "execution_count": null,
   "id": "50842986",
   "metadata": {},
   "outputs": [],
   "source": []
  },
  {
   "cell_type": "markdown",
   "id": "fc40eb9d",
   "metadata": {},
   "source": [
    "##### Converting the data type of column -\"Assets ($M)\""
   ]
  },
  {
   "cell_type": "code",
   "execution_count": 53,
   "id": "7cc2cdf3",
   "metadata": {},
   "outputs": [],
   "source": [
    "fortune['Assets ($M)']=fortune['Assets ($M)'].astype(float)"
   ]
  },
  {
   "cell_type": "code",
   "execution_count": 54,
   "id": "0ffa6662",
   "metadata": {},
   "outputs": [
    {
     "data": {
      "text/plain": [
       "dtype('float64')"
      ]
     },
     "execution_count": 54,
     "metadata": {},
     "output_type": "execute_result"
    }
   ],
   "source": [
    "fortune['Assets ($M)'].dtype"
   ]
  },
  {
   "cell_type": "code",
   "execution_count": 55,
   "id": "f2fb7fdf",
   "metadata": {},
   "outputs": [
    {
     "data": {
      "text/plain": [
       "0"
      ]
     },
     "execution_count": 55,
     "metadata": {},
     "output_type": "execute_result"
    }
   ],
   "source": [
    "fortune['Assets ($M)'].isnull().sum()"
   ]
  },
  {
   "cell_type": "code",
   "execution_count": null,
   "id": "e2d2a0cb",
   "metadata": {},
   "outputs": [],
   "source": []
  },
  {
   "cell_type": "markdown",
   "id": "f827441b",
   "metadata": {},
   "source": [
    "##### Cleaning and converting the data type of column -\"Market Value - as of March 31, 2022 ($M)\""
   ]
  },
  {
   "cell_type": "code",
   "execution_count": 56,
   "id": "e789fbb6",
   "metadata": {},
   "outputs": [],
   "source": [
    "fortune['Market Value - as of March 31, 2022 ($M)']=np.where(fortune['Market Value - as of March 31, 2022 ($M)']=='-',np.NaN,fortune['Market Value - as of March 31, 2022 ($M)'])"
   ]
  },
  {
   "cell_type": "code",
   "execution_count": 57,
   "id": "cc33c1df",
   "metadata": {},
   "outputs": [],
   "source": [
    "fortune['Market Value - as of March 31, 2022 ($M)']=fortune['Market Value - as of March 31, 2022 ($M)'].astype(float)"
   ]
  },
  {
   "cell_type": "code",
   "execution_count": 58,
   "id": "a9c8c0dd",
   "metadata": {},
   "outputs": [
    {
     "data": {
      "text/plain": [
       "dtype('float64')"
      ]
     },
     "execution_count": 58,
     "metadata": {},
     "output_type": "execute_result"
    }
   ],
   "source": [
    "fortune['Market Value - as of March 31, 2022 ($M)'].dtype"
   ]
  },
  {
   "cell_type": "code",
   "execution_count": 59,
   "id": "8ad7982a",
   "metadata": {},
   "outputs": [
    {
     "data": {
      "text/plain": [
       "25"
      ]
     },
     "execution_count": 59,
     "metadata": {},
     "output_type": "execute_result"
    }
   ],
   "source": [
    "fortune['Market Value - as of March 31, 2022 ($M)'].isnull().sum()"
   ]
  },
  {
   "cell_type": "code",
   "execution_count": null,
   "id": "d6c818d4",
   "metadata": {},
   "outputs": [],
   "source": []
  },
  {
   "cell_type": "markdown",
   "id": "b9a07eab",
   "metadata": {},
   "source": [
    "##### Converting the data type of column -\"Employees\""
   ]
  },
  {
   "cell_type": "code",
   "execution_count": 60,
   "id": "a2ee476c",
   "metadata": {},
   "outputs": [],
   "source": [
    "fortune['Employees']=fortune['Employees'].astype(float)"
   ]
  },
  {
   "cell_type": "code",
   "execution_count": 61,
   "id": "5dacdcc8",
   "metadata": {},
   "outputs": [
    {
     "data": {
      "text/plain": [
       "dtype('float64')"
      ]
     },
     "execution_count": 61,
     "metadata": {},
     "output_type": "execute_result"
    }
   ],
   "source": [
    "fortune['Employees'].dtype"
   ]
  },
  {
   "cell_type": "code",
   "execution_count": 62,
   "id": "0c4d6554",
   "metadata": {},
   "outputs": [
    {
     "data": {
      "text/plain": [
       "0"
      ]
     },
     "execution_count": 62,
     "metadata": {},
     "output_type": "execute_result"
    }
   ],
   "source": [
    "fortune['Employees'].isnull().sum()"
   ]
  },
  {
   "cell_type": "code",
   "execution_count": null,
   "id": "c9677eaf",
   "metadata": {},
   "outputs": [],
   "source": []
  },
  {
   "cell_type": "code",
   "execution_count": null,
   "id": "8fdbb0ea",
   "metadata": {},
   "outputs": [],
   "source": []
  },
  {
   "cell_type": "markdown",
   "id": "94305823",
   "metadata": {},
   "source": [
    "## Step 4: Missing value treatment"
   ]
  },
  {
   "cell_type": "markdown",
   "id": "ac4d261f",
   "metadata": {},
   "source": [
    "##### Checking the null values in the complete data set"
   ]
  },
  {
   "cell_type": "code",
   "execution_count": 63,
   "id": "6e810c34",
   "metadata": {},
   "outputs": [
    {
     "data": {
      "text/plain": [
       "Rank                                          0\n",
       "Name                                          0\n",
       "Revenues ($M)                                 0\n",
       "Revenue Percent Change                        3\n",
       "Profits ($M)                                  1\n",
       "Profits Percent Change                      121\n",
       "Assets ($M)                                   0\n",
       "Market Value - as of March 31, 2022 ($M)     25\n",
       "Employees                                     0\n",
       "dtype: int64"
      ]
     },
     "execution_count": 63,
     "metadata": {},
     "output_type": "execute_result"
    }
   ],
   "source": [
    "fortune.isnull().sum()"
   ]
  },
  {
   "cell_type": "markdown",
   "id": "ebbb7055",
   "metadata": {},
   "source": [
    "##### Checking statistical summary of the dataset"
   ]
  },
  {
   "cell_type": "code",
   "execution_count": 64,
   "id": "ffaf5b1a",
   "metadata": {},
   "outputs": [
    {
     "data": {
      "text/html": [
       "<div>\n",
       "<style scoped>\n",
       "    .dataframe tbody tr th:only-of-type {\n",
       "        vertical-align: middle;\n",
       "    }\n",
       "\n",
       "    .dataframe tbody tr th {\n",
       "        vertical-align: top;\n",
       "    }\n",
       "\n",
       "    .dataframe thead th {\n",
       "        text-align: right;\n",
       "    }\n",
       "</style>\n",
       "<table border=\"1\" class=\"dataframe\">\n",
       "  <thead>\n",
       "    <tr style=\"text-align: right;\">\n",
       "      <th></th>\n",
       "      <th>Rank</th>\n",
       "      <th>Revenues ($M)</th>\n",
       "      <th>Revenue Percent Change</th>\n",
       "      <th>Profits ($M)</th>\n",
       "      <th>Profits Percent Change</th>\n",
       "      <th>Assets ($M)</th>\n",
       "      <th>Market Value - as of March 31, 2022 ($M)</th>\n",
       "      <th>Employees</th>\n",
       "    </tr>\n",
       "  </thead>\n",
       "  <tbody>\n",
       "    <tr>\n",
       "      <th>count</th>\n",
       "      <td>500.000000</td>\n",
       "      <td>500.000000</td>\n",
       "      <td>497.000000</td>\n",
       "      <td>499.000000</td>\n",
       "      <td>379.000000</td>\n",
       "      <td>5.000000e+02</td>\n",
       "      <td>4.750000e+02</td>\n",
       "      <td>5.000000e+02</td>\n",
       "    </tr>\n",
       "    <tr>\n",
       "      <th>mean</th>\n",
       "      <td>250.498000</td>\n",
       "      <td>32179.219800</td>\n",
       "      <td>31.450503</td>\n",
       "      <td>3678.347495</td>\n",
       "      <td>137.854090</td>\n",
       "      <td>1.097656e+05</td>\n",
       "      <td>7.779077e+04</td>\n",
       "      <td>5.938062e+04</td>\n",
       "    </tr>\n",
       "    <tr>\n",
       "      <th>std</th>\n",
       "      <td>144.478837</td>\n",
       "      <td>54126.449163</td>\n",
       "      <td>107.282425</td>\n",
       "      <td>8755.260454</td>\n",
       "      <td>402.124209</td>\n",
       "      <td>3.666158e+05</td>\n",
       "      <td>2.227405e+05</td>\n",
       "      <td>1.430266e+05</td>\n",
       "    </tr>\n",
       "    <tr>\n",
       "      <th>min</th>\n",
       "      <td>1.000000</td>\n",
       "      <td>6394.000000</td>\n",
       "      <td>-33.500000</td>\n",
       "      <td>-6520.000000</td>\n",
       "      <td>-989.100000</td>\n",
       "      <td>1.191600e+03</td>\n",
       "      <td>4.881000e+02</td>\n",
       "      <td>3.470000e+02</td>\n",
       "    </tr>\n",
       "    <tr>\n",
       "      <th>25%</th>\n",
       "      <td>125.750000</td>\n",
       "      <td>9353.075000</td>\n",
       "      <td>6.700000</td>\n",
       "      <td>553.050000</td>\n",
       "      <td>12.300000</td>\n",
       "      <td>1.261483e+04</td>\n",
       "      <td>1.040535e+04</td>\n",
       "      <td>1.178775e+04</td>\n",
       "    </tr>\n",
       "    <tr>\n",
       "      <th>50%</th>\n",
       "      <td>250.500000</td>\n",
       "      <td>14619.050000</td>\n",
       "      <td>15.300000</td>\n",
       "      <td>1372.400000</td>\n",
       "      <td>49.300000</td>\n",
       "      <td>2.717290e+04</td>\n",
       "      <td>2.561460e+04</td>\n",
       "      <td>2.581900e+04</td>\n",
       "    </tr>\n",
       "    <tr>\n",
       "      <th>75%</th>\n",
       "      <td>375.250000</td>\n",
       "      <td>27752.250000</td>\n",
       "      <td>30.000000</td>\n",
       "      <td>3269.900000</td>\n",
       "      <td>127.600000</td>\n",
       "      <td>6.952573e+04</td>\n",
       "      <td>6.555735e+04</td>\n",
       "      <td>5.800000e+04</td>\n",
       "    </tr>\n",
       "    <tr>\n",
       "      <th>max</th>\n",
       "      <td>500.000000</td>\n",
       "      <td>572754.000000</td>\n",
       "      <td>2199.100000</td>\n",
       "      <td>94680.000000</td>\n",
       "      <td>4961.000000</td>\n",
       "      <td>4.229166e+06</td>\n",
       "      <td>2.849538e+06</td>\n",
       "      <td>2.300000e+06</td>\n",
       "    </tr>\n",
       "  </tbody>\n",
       "</table>\n",
       "</div>"
      ],
      "text/plain": [
       "             Rank  Revenues ($M)  Revenue Percent Change  Profits ($M)  \\\n",
       "count  500.000000     500.000000              497.000000    499.000000   \n",
       "mean   250.498000   32179.219800               31.450503   3678.347495   \n",
       "std    144.478837   54126.449163              107.282425   8755.260454   \n",
       "min      1.000000    6394.000000              -33.500000  -6520.000000   \n",
       "25%    125.750000    9353.075000                6.700000    553.050000   \n",
       "50%    250.500000   14619.050000               15.300000   1372.400000   \n",
       "75%    375.250000   27752.250000               30.000000   3269.900000   \n",
       "max    500.000000  572754.000000             2199.100000  94680.000000   \n",
       "\n",
       "       Profits Percent Change   Assets ($M)  \\\n",
       "count              379.000000  5.000000e+02   \n",
       "mean               137.854090  1.097656e+05   \n",
       "std                402.124209  3.666158e+05   \n",
       "min               -989.100000  1.191600e+03   \n",
       "25%                 12.300000  1.261483e+04   \n",
       "50%                 49.300000  2.717290e+04   \n",
       "75%                127.600000  6.952573e+04   \n",
       "max               4961.000000  4.229166e+06   \n",
       "\n",
       "       Market Value - as of March 31, 2022 ($M)     Employees  \n",
       "count                              4.750000e+02  5.000000e+02  \n",
       "mean                               7.779077e+04  5.938062e+04  \n",
       "std                                2.227405e+05  1.430266e+05  \n",
       "min                                4.881000e+02  3.470000e+02  \n",
       "25%                                1.040535e+04  1.178775e+04  \n",
       "50%                                2.561460e+04  2.581900e+04  \n",
       "75%                                6.555735e+04  5.800000e+04  \n",
       "max                                2.849538e+06  2.300000e+06  "
      ]
     },
     "execution_count": 64,
     "metadata": {},
     "output_type": "execute_result"
    }
   ],
   "source": [
    "fortune.describe()"
   ]
  },
  {
   "cell_type": "markdown",
   "id": "5a186ca3",
   "metadata": {},
   "source": [
    "### Treating missing values in the 'Revenue Percent Change' column"
   ]
  },
  {
   "cell_type": "code",
   "execution_count": 65,
   "id": "09f83052",
   "metadata": {},
   "outputs": [
    {
     "data": {
      "text/plain": [
       "count     497.000000\n",
       "mean       31.450503\n",
       "std       107.282425\n",
       "min       -33.500000\n",
       "25%         6.700000\n",
       "50%        15.300000\n",
       "75%        30.000000\n",
       "max      2199.100000\n",
       "Name: Revenue Percent Change, dtype: float64"
      ]
     },
     "execution_count": 65,
     "metadata": {},
     "output_type": "execute_result"
    }
   ],
   "source": [
    "fortune['Revenue Percent Change'].describe()"
   ]
  },
  {
   "cell_type": "code",
   "execution_count": 66,
   "id": "343dd64e",
   "metadata": {},
   "outputs": [
    {
     "data": {
      "text/plain": [
       "<AxesSubplot:xlabel='Revenue Percent Change'>"
      ]
     },
     "execution_count": 66,
     "metadata": {},
     "output_type": "execute_result"
    },
    {
     "data": {
      "image/png": "[encoded data removed]",
      "text/plain": [
       "<Figure size 432x288 with 1 Axes>"
      ]
     },
     "metadata": {
      "needs_background": "light"
     },
     "output_type": "display_data"
    }
   ],
   "source": [
    "# Checking outliers\n",
    "sns.boxplot(fortune['Revenue Percent Change'])"
   ]
  },
  {
   "cell_type": "code",
   "execution_count": 67,
   "id": "7663b4cf",
   "metadata": {},
   "outputs": [
    {
     "data": {
      "text/plain": [
       "<AxesSubplot:xlabel='Revenue Percent Change'>"
      ]
     },
     "execution_count": 67,
     "metadata": {},
     "output_type": "execute_result"
    },
    {
     "data": {
      "image/png": "[encoded data removed]",
      "text/plain": [
       "<Figure size 432x288 with 1 Axes>"
      ]
     },
     "metadata": {
      "needs_background": "light"
     },
     "output_type": "display_data"
    }
   ],
   "source": [
    "sns.violinplot(fortune['Revenue Percent Change'])"
   ]
  },
  {
   "cell_type": "code",
   "execution_count": 68,
   "id": "e3d53a8a",
   "metadata": {},
   "outputs": [],
   "source": [
    "#a=np.percentile(fortune.Revenue Percent Change,99)\n",
    "#a\n",
    "\n",
    "#b=np.percentile(fortune['Profits ($M)'], 75)\n",
    "#b"
   ]
  },
  {
   "cell_type": "code",
   "execution_count": 69,
   "id": "cb4b3745",
   "metadata": {},
   "outputs": [],
   "source": [
    "sd1=np.std(fortune['Revenue Percent Change'])"
   ]
  },
  {
   "cell_type": "code",
   "execution_count": 70,
   "id": "8fdd9b06",
   "metadata": {},
   "outputs": [
    {
     "data": {
      "text/plain": [
       "107.17444083999078"
      ]
     },
     "execution_count": 70,
     "metadata": {},
     "output_type": "execute_result"
    }
   ],
   "source": [
    "sd1"
   ]
  },
  {
   "cell_type": "code",
   "execution_count": 71,
   "id": "57aba354",
   "metadata": {},
   "outputs": [
    {
     "data": {
      "text/plain": [
       "31.450503018108655"
      ]
     },
     "execution_count": 71,
     "metadata": {},
     "output_type": "execute_result"
    }
   ],
   "source": [
    "m=np.mean(fortune['Revenue Percent Change'])\n",
    "m"
   ]
  },
  {
   "cell_type": "code",
   "execution_count": 72,
   "id": "872d7843",
   "metadata": {},
   "outputs": [
    {
     "data": {
      "text/plain": [
       "count     497.000000\n",
       "mean       31.450503\n",
       "std       107.282425\n",
       "min       -33.500000\n",
       "25%         6.700000\n",
       "50%        15.300000\n",
       "75%        30.000000\n",
       "max      2199.100000\n",
       "Name: Revenue Percent Change, dtype: float64"
      ]
     },
     "execution_count": 72,
     "metadata": {},
     "output_type": "execute_result"
    }
   ],
   "source": [
    "fortune['Revenue Percent Change'].describe()"
   ]
  },
  {
   "cell_type": "code",
   "execution_count": 73,
   "id": "9c18787d",
   "metadata": {},
   "outputs": [
    {
     "data": {
      "text/plain": [
       "3"
      ]
     },
     "execution_count": 73,
     "metadata": {},
     "output_type": "execute_result"
    }
   ],
   "source": [
    "fortune['Revenue Percent Change'].isnull().sum()"
   ]
  },
  {
   "cell_type": "code",
   "execution_count": 74,
   "id": "d30cc2fa",
   "metadata": {},
   "outputs": [],
   "source": [
    "#Replacing null values with the mean.\n",
    "fortune['Revenue Percent Change'].fillna(m, inplace=True)"
   ]
  },
  {
   "cell_type": "code",
   "execution_count": 75,
   "id": "0e49871b",
   "metadata": {},
   "outputs": [
    {
     "data": {
      "text/plain": [
       "0"
      ]
     },
     "execution_count": 75,
     "metadata": {},
     "output_type": "execute_result"
    }
   ],
   "source": [
    "fortune['Revenue Percent Change'].isnull().sum()"
   ]
  },
  {
   "cell_type": "markdown",
   "id": "d160c64c",
   "metadata": {},
   "source": [
    "### Treating missing values in the 'Profits ($M)' column"
   ]
  },
  {
   "cell_type": "code",
   "execution_count": 76,
   "id": "66cb1fa6",
   "metadata": {},
   "outputs": [
    {
     "data": {
      "text/plain": [
       "count      499.000000\n",
       "mean      3678.347495\n",
       "std       8755.260454\n",
       "min      -6520.000000\n",
       "25%        553.050000\n",
       "50%       1372.400000\n",
       "75%       3269.900000\n",
       "max      94680.000000\n",
       "Name: Profits ($M), dtype: float64"
      ]
     },
     "execution_count": 76,
     "metadata": {},
     "output_type": "execute_result"
    }
   ],
   "source": [
    "fortune['Profits ($M)'].describe()"
   ]
  },
  {
   "cell_type": "code",
   "execution_count": 77,
   "id": "14d69b73",
   "metadata": {},
   "outputs": [
    {
     "data": {
      "text/plain": [
       "1"
      ]
     },
     "execution_count": 77,
     "metadata": {},
     "output_type": "execute_result"
    }
   ],
   "source": [
    "fortune['Profits ($M)'].isnull().sum()"
   ]
  },
  {
   "cell_type": "markdown",
   "id": "f12ad81c",
   "metadata": {},
   "source": [
    "##### Using forwardward fill method to fill the missing value\n",
    "##### (filling up the above value in the column)"
   ]
  },
  {
   "cell_type": "code",
   "execution_count": 78,
   "id": "5e14a5dc",
   "metadata": {},
   "outputs": [],
   "source": [
    "fortune['Profits ($M)'].fillna(method='ffill', inplace=True)"
   ]
  },
  {
   "cell_type": "code",
   "execution_count": 79,
   "id": "cc915233",
   "metadata": {},
   "outputs": [
    {
     "data": {
      "text/plain": [
       "0"
      ]
     },
     "execution_count": 79,
     "metadata": {},
     "output_type": "execute_result"
    }
   ],
   "source": [
    "fortune['Profits ($M)'].isnull().sum()"
   ]
  },
  {
   "cell_type": "markdown",
   "id": "dd69edd6",
   "metadata": {},
   "source": [
    "### Treating missing values in the 'Profits Percent Change' column"
   ]
  },
  {
   "cell_type": "code",
   "execution_count": 80,
   "id": "9260d7c6",
   "metadata": {},
   "outputs": [
    {
     "data": {
      "text/plain": [
       "count     379.000000\n",
       "mean      137.854090\n",
       "std       402.124209\n",
       "min      -989.100000\n",
       "25%        12.300000\n",
       "50%        49.300000\n",
       "75%       127.600000\n",
       "max      4961.000000\n",
       "Name: Profits Percent Change, dtype: float64"
      ]
     },
     "execution_count": 80,
     "metadata": {},
     "output_type": "execute_result"
    }
   ],
   "source": [
    "fortune['Profits Percent Change'].describe()"
   ]
  },
  {
   "cell_type": "code",
   "execution_count": 81,
   "id": "51a9c60c",
   "metadata": {},
   "outputs": [
    {
     "data": {
      "text/plain": [
       "121"
      ]
     },
     "execution_count": 81,
     "metadata": {},
     "output_type": "execute_result"
    }
   ],
   "source": [
    "fortune['Profits Percent Change'].isnull().sum()"
   ]
  },
  {
   "cell_type": "markdown",
   "id": "91d0abbe",
   "metadata": {},
   "source": [
    "##### Replacing the null values with a particular value given as argument.\n",
    "##### Here used 12.30 as 25th percentile values are 127.60"
   ]
  },
  {
   "cell_type": "code",
   "execution_count": 82,
   "id": "bc0adf43",
   "metadata": {},
   "outputs": [],
   "source": [
    "fortune['Profits Percent Change'].fillna(12.30, inplace=True)"
   ]
  },
  {
   "cell_type": "code",
   "execution_count": 83,
   "id": "194f5a83",
   "metadata": {},
   "outputs": [
    {
     "data": {
      "text/plain": [
       "0"
      ]
     },
     "execution_count": 83,
     "metadata": {},
     "output_type": "execute_result"
    }
   ],
   "source": [
    "fortune['Profits Percent Change'].isnull().sum()"
   ]
  },
  {
   "cell_type": "code",
   "execution_count": 84,
   "id": "c8c75788",
   "metadata": {},
   "outputs": [
    {
     "data": {
      "text/plain": [
       "0        1.2\n",
       "1       56.4\n",
       "2       64.9\n",
       "3       10.2\n",
       "4       12.2\n",
       "       ...  \n",
       "495     92.7\n",
       "496     21.4\n",
       "497    348.9\n",
       "498     12.3\n",
       "499     13.7\n",
       "Name: Profits Percent Change, Length: 500, dtype: float64"
      ]
     },
     "execution_count": 84,
     "metadata": {},
     "output_type": "execute_result"
    }
   ],
   "source": [
    "fortune['Profits Percent Change']"
   ]
  },
  {
   "cell_type": "markdown",
   "id": "d42a65ba",
   "metadata": {},
   "source": [
    "### Treating missing values in the 'Market Value - as of March 31, 2022 ($M)' column"
   ]
  },
  {
   "cell_type": "code",
   "execution_count": 85,
   "id": "6c4c70e2",
   "metadata": {},
   "outputs": [
    {
     "data": {
      "text/plain": [
       "count    4.750000e+02\n",
       "mean     7.779077e+04\n",
       "std      2.227405e+05\n",
       "min      4.881000e+02\n",
       "25%      1.040535e+04\n",
       "50%      2.561460e+04\n",
       "75%      6.555735e+04\n",
       "max      2.849538e+06\n",
       "Name: Market Value - as of March 31, 2022 ($M), dtype: float64"
      ]
     },
     "execution_count": 85,
     "metadata": {},
     "output_type": "execute_result"
    }
   ],
   "source": [
    "fortune['Market Value - as of March 31, 2022 ($M)'].describe()"
   ]
  },
  {
   "cell_type": "code",
   "execution_count": 86,
   "id": "721fa5d9",
   "metadata": {},
   "outputs": [
    {
     "data": {
      "text/plain": [
       "25"
      ]
     },
     "execution_count": 86,
     "metadata": {},
     "output_type": "execute_result"
    }
   ],
   "source": [
    "fortune['Market Value - as of March 31, 2022 ($M)'].isnull().sum()"
   ]
  },
  {
   "cell_type": "code",
   "execution_count": 87,
   "id": "2bd3b018",
   "metadata": {},
   "outputs": [
    {
     "data": {
      "text/plain": [
       "0       409795.0\n",
       "1      1658807.3\n",
       "2      2849537.6\n",
       "3       132839.2\n",
       "4       479830.3\n",
       "         ...    \n",
       "495      11383.6\n",
       "496      49868.8\n",
       "497       1133.9\n",
       "498       6763.1\n",
       "499      24198.7\n",
       "Name: Market Value - as of March 31, 2022 ($M), Length: 500, dtype: float64"
      ]
     },
     "execution_count": 87,
     "metadata": {},
     "output_type": "execute_result"
    }
   ],
   "source": [
    "fortune['Market Value - as of March 31, 2022 ($M)']"
   ]
  },
  {
   "cell_type": "markdown",
   "id": "9e9245f1",
   "metadata": {},
   "source": [
    "###### Using backward fill method to fill the missing value\n",
    "###### filling up the below value in the column"
   ]
  },
  {
   "cell_type": "code",
   "execution_count": 88,
   "id": "04131904",
   "metadata": {},
   "outputs": [],
   "source": [
    "fortune['Market Value - as of March 31, 2022 ($M)'].fillna(method='bfill', inplace=True)"
   ]
  },
  {
   "cell_type": "code",
   "execution_count": 89,
   "id": "5c793ee9",
   "metadata": {},
   "outputs": [
    {
     "data": {
      "text/plain": [
       "0"
      ]
     },
     "execution_count": 89,
     "metadata": {},
     "output_type": "execute_result"
    }
   ],
   "source": [
    "fortune['Market Value - as of March 31, 2022 ($M)'].isnull().sum()"
   ]
  },
  {
   "cell_type": "code",
   "execution_count": null,
   "id": "9e9e1209",
   "metadata": {},
   "outputs": [],
   "source": []
  },
  {
   "cell_type": "code",
   "execution_count": 90,
   "id": "5add6fad",
   "metadata": {},
   "outputs": [
    {
     "data": {
      "text/plain": [
       "Rank                                        0\n",
       "Name                                        0\n",
       "Revenues ($M)                               0\n",
       "Revenue Percent Change                      0\n",
       "Profits ($M)                                0\n",
       "Profits Percent Change                      0\n",
       "Assets ($M)                                 0\n",
       "Market Value - as of March 31, 2022 ($M)    0\n",
       "Employees                                   0\n",
       "dtype: int64"
      ]
     },
     "execution_count": 90,
     "metadata": {},
     "output_type": "execute_result"
    }
   ],
   "source": [
    "fortune.isnull().sum()"
   ]
  },
  {
   "cell_type": "markdown",
   "id": "df003f1f",
   "metadata": {},
   "source": [
    "#### ALL NULL /MISSING VALUES HAVE BEEN FILLED UP NOW"
   ]
  },
  {
   "cell_type": "code",
   "execution_count": null,
   "id": "11940d91",
   "metadata": {},
   "outputs": [],
   "source": []
  },
  {
   "cell_type": "code",
   "execution_count": 91,
   "id": "869b28ad",
   "metadata": {},
   "outputs": [
    {
     "data": {
      "text/html": [
       "<div>\n",
       "<style scoped>\n",
       "    .dataframe tbody tr th:only-of-type {\n",
       "        vertical-align: middle;\n",
       "    }\n",
       "\n",
       "    .dataframe tbody tr th {\n",
       "        vertical-align: top;\n",
       "    }\n",
       "\n",
       "    .dataframe thead th {\n",
       "        text-align: right;\n",
       "    }\n",
       "</style>\n",
       "<table border=\"1\" class=\"dataframe\">\n",
       "  <thead>\n",
       "    <tr style=\"text-align: right;\">\n",
       "      <th></th>\n",
       "      <th>Rank</th>\n",
       "      <th>Name</th>\n",
       "      <th>Revenues ($M)</th>\n",
       "      <th>Revenue Percent Change</th>\n",
       "      <th>Profits ($M)</th>\n",
       "      <th>Profits Percent Change</th>\n",
       "      <th>Assets ($M)</th>\n",
       "      <th>Market Value - as of March 31, 2022 ($M)</th>\n",
       "      <th>Employees</th>\n",
       "    </tr>\n",
       "  </thead>\n",
       "  <tbody>\n",
       "    <tr>\n",
       "      <th>0</th>\n",
       "      <td>1</td>\n",
       "      <td>Walmart</td>\n",
       "      <td>572754.0</td>\n",
       "      <td>2.4</td>\n",
       "      <td>13673.0</td>\n",
       "      <td>1.2</td>\n",
       "      <td>244860.0</td>\n",
       "      <td>409795.0</td>\n",
       "      <td>2300000.0</td>\n",
       "    </tr>\n",
       "    <tr>\n",
       "      <th>1</th>\n",
       "      <td>2</td>\n",
       "      <td>Amazon</td>\n",
       "      <td>469822.0</td>\n",
       "      <td>21.7</td>\n",
       "      <td>33364.0</td>\n",
       "      <td>56.4</td>\n",
       "      <td>420549.0</td>\n",
       "      <td>1658807.3</td>\n",
       "      <td>1608000.0</td>\n",
       "    </tr>\n",
       "  </tbody>\n",
       "</table>\n",
       "</div>"
      ],
      "text/plain": [
       "   Rank     Name  Revenues ($M)  Revenue Percent Change  Profits ($M)  \\\n",
       "0     1  Walmart       572754.0                     2.4       13673.0   \n",
       "1     2   Amazon       469822.0                    21.7       33364.0   \n",
       "\n",
       "   Profits Percent Change  Assets ($M)  \\\n",
       "0                     1.2     244860.0   \n",
       "1                    56.4     420549.0   \n",
       "\n",
       "   Market Value - as of March 31, 2022 ($M)  Employees  \n",
       "0                                  409795.0  2300000.0  \n",
       "1                                 1658807.3  1608000.0  "
      ]
     },
     "execution_count": 91,
     "metadata": {},
     "output_type": "execute_result"
    }
   ],
   "source": [
    "fortune.head(2)"
   ]
  },
  {
   "cell_type": "markdown",
   "id": "e2dae8f5",
   "metadata": {},
   "source": [
    "## Step 5: Checking Outliers"
   ]
  },
  {
   "cell_type": "markdown",
   "id": "bdfb833a",
   "metadata": {},
   "source": [
    "#### Checking outliers in the below 2 columns:\n",
    "1. Revenues ($M)"
   ]
  },
  {
   "cell_type": "markdown",
   "id": "87395b58",
   "metadata": {},
   "source": [
    "2. Profits ($M)"
   ]
  },
  {
   "cell_type": "code",
   "execution_count": 92,
   "id": "f4e42c2c",
   "metadata": {},
   "outputs": [
    {
     "name": "stdout",
     "output_type": "stream",
     "text": [
      "Mean= 32179.21980000002\n",
      "Stndrd Dev= 54072.29562383561\n",
      "No. of outliers= 11\n"
     ]
    }
   ],
   "source": [
    "mR=np.mean(fortune['Revenues ($M)'])\n",
    "sdR=np.std(fortune['Revenues ($M)'])\n",
    "out_count=fortune.loc[fortune['Revenues ($M)']>mR+3*sdR, 'Rank'].count()\n",
    "print('Mean=',mR)\n",
    "print('Stndrd Dev=', sdR)\n",
    "print('No. of outliers=',out_count)"
   ]
  },
  {
   "cell_type": "code",
   "execution_count": 93,
   "id": "601743f9",
   "metadata": {},
   "outputs": [
    {
     "name": "stdout",
     "output_type": "stream",
     "text": [
      "Mean= 3671.1092000000003\n",
      "Stndrd Dev= 8739.228303544623\n",
      "No. of outliers= 8\n"
     ]
    }
   ],
   "source": [
    "mP=np.mean(fortune['Profits ($M)'])\n",
    "sdP=np.std(fortune['Profits ($M)'])\n",
    "out_count_profit=fortune.loc[fortune['Profits ($M)']>mP+3*sdP, 'Rank'].count()\n",
    "print('Mean=',mP)\n",
    "print('Stndrd Dev=', sdP)\n",
    "print('No. of outliers=',out_count_profit)"
   ]
  },
  {
   "cell_type": "markdown",
   "id": "e15eddf0",
   "metadata": {},
   "source": [
    "# EDA"
   ]
  },
  {
   "cell_type": "markdown",
   "id": "cf67a21e",
   "metadata": {},
   "source": [
    "## Univariate Analysis"
   ]
  },
  {
   "cell_type": "markdown",
   "id": "d63338d3",
   "metadata": {},
   "source": [
    "#### -Checking outliers in 'Revenues ($M)' column"
   ]
  },
  {
   "cell_type": "code",
   "execution_count": 94,
   "id": "e73dcc8b",
   "metadata": {},
   "outputs": [
    {
     "data": {
      "text/plain": [
       "count       500.000000\n",
       "mean      32179.219800\n",
       "std       54126.449163\n",
       "min        6394.000000\n",
       "25%        9353.075000\n",
       "50%       14619.050000\n",
       "75%       27752.250000\n",
       "max      572754.000000\n",
       "Name: Revenues ($M), dtype: float64"
      ]
     },
     "execution_count": 94,
     "metadata": {},
     "output_type": "execute_result"
    }
   ],
   "source": [
    "fortune['Revenues ($M)'].describe()"
   ]
  },
  {
   "cell_type": "code",
   "execution_count": 95,
   "id": "d85ec74d",
   "metadata": {},
   "outputs": [
    {
     "data": {
      "text/plain": [
       "<AxesSubplot:xlabel='Revenues ($M)', ylabel='Density'>"
      ]
     },
     "execution_count": 95,
     "metadata": {},
     "output_type": "execute_result"
    },
    {
     "data": {
      "image/png": "[encoded data removed]",
      "text/plain": [
       "<Figure size 432x288 with 1 Axes>"
      ]
     },
     "metadata": {
      "needs_background": "light"
     },
     "output_type": "display_data"
    }
   ],
   "source": [
    "sns.distplot(fortune['Revenues ($M)'])"
   ]
  },
  {
   "cell_type": "markdown",
   "id": "c8b643a9",
   "metadata": {},
   "source": [
    "### The above distribution plot shows that the data is right skewed."
   ]
  },
  {
   "cell_type": "code",
   "execution_count": 96,
   "id": "5a225971",
   "metadata": {},
   "outputs": [
    {
     "data": {
      "text/plain": [
       "<AxesSubplot:xlabel='Revenues ($M)'>"
      ]
     },
     "execution_count": 96,
     "metadata": {},
     "output_type": "execute_result"
    },
    {
     "data": {
      "image/png": "[encoded data removed]",
      "text/plain": [
       "<Figure size 432x288 with 1 Axes>"
      ]
     },
     "metadata": {
      "needs_background": "light"
     },
     "output_type": "display_data"
    }
   ],
   "source": [
    "sns.boxplot(fortune['Revenues ($M)'])"
   ]
  },
  {
   "cell_type": "markdown",
   "id": "2dcabb72",
   "metadata": {},
   "source": [
    "### The above box plot shows that the outliers are beyond 200k $M"
   ]
  },
  {
   "cell_type": "code",
   "execution_count": 97,
   "id": "78ecc3b4",
   "metadata": {},
   "outputs": [
    {
     "data": {
      "text/plain": [
       "<AxesSubplot:xlabel='Revenues ($M)'>"
      ]
     },
     "execution_count": 97,
     "metadata": {},
     "output_type": "execute_result"
    },
    {
     "data": {
      "image/png": "[encoded data removed]",
      "text/plain": [
       "<Figure size 432x288 with 1 Axes>"
      ]
     },
     "metadata": {
      "needs_background": "light"
     },
     "output_type": "display_data"
    }
   ],
   "source": [
    "sns.violinplot(fortune['Revenues ($M)'])"
   ]
  },
  {
   "cell_type": "markdown",
   "id": "86a323e8",
   "metadata": {},
   "source": [
    "### The above violin plot shows that majority of the Revenues are below the range of 100k $$M and the outliers are beyond 200k $ M"
   ]
  },
  {
   "cell_type": "code",
   "execution_count": 98,
   "id": "4fb99398",
   "metadata": {},
   "outputs": [
    {
     "name": "stdout",
     "output_type": "stream",
     "text": [
      "Mean= 32179.21980000002\n",
      "Stndrd Dev= 54072.29562383561\n",
      "No. of outliers= 11\n"
     ]
    }
   ],
   "source": [
    "mR=np.mean(fortune['Revenues ($M)'])\n",
    "sdR=np.std(fortune['Revenues ($M)'])\n",
    "out_count=fortune.loc[fortune['Revenues ($M)']>mR+3*sdR, 'Rank'].count()\n",
    "print('Mean=',mR)\n",
    "print('Stndrd Dev=', sdR)\n",
    "print('No. of outliers=',out_count)"
   ]
  },
  {
   "cell_type": "markdown",
   "id": "ae35dbd7",
   "metadata": {},
   "source": [
    "##### Applying the Mean+3SD rule to eliminate outliers and reduce the skewness of the distribution"
   ]
  },
  {
   "cell_type": "code",
   "execution_count": 99,
   "id": "e1fe841b",
   "metadata": {},
   "outputs": [
    {
     "data": {
      "image/png": "[encoded data removed]",
      "text/plain": [
       "<Figure size 432x288 with 1 Axes>"
      ]
     },
     "metadata": {
      "needs_background": "light"
     },
     "output_type": "display_data"
    }
   ],
   "source": [
    "sns.distplot(np.where(fortune['Revenues ($M)']>mR+3*sdR,mR+3*sdR,fortune['Revenues ($M)']))\n",
    "plt.title('M+3SD')\n",
    "plt.show()"
   ]
  },
  {
   "cell_type": "markdown",
   "id": "e62242f3",
   "metadata": {},
   "source": [
    "##### The above distribution plot shows that the skewness is reduced by the M+3SD rule"
   ]
  },
  {
   "cell_type": "code",
   "execution_count": 100,
   "id": "8dc6422b",
   "metadata": {},
   "outputs": [
    {
     "data": {
      "text/plain": [
       "<AxesSubplot:xlabel='Revenues ($M)', ylabel='Density'>"
      ]
     },
     "execution_count": 100,
     "metadata": {},
     "output_type": "execute_result"
    },
    {
     "data": {
      "image/png": "[encoded data removed]",
      "text/plain": [
       "<Figure size 432x288 with 1 Axes>"
      ]
     },
     "metadata": {
      "needs_background": "light"
     },
     "output_type": "display_data"
    }
   ],
   "source": [
    "sns.distplot(np.sqrt(fortune['Revenues ($M)']))"
   ]
  },
  {
   "cell_type": "markdown",
   "id": "06ed506a",
   "metadata": {},
   "source": [
    "##### The above plot shows that the skewness is still there even after applying square root to the variable"
   ]
  },
  {
   "cell_type": "code",
   "execution_count": 101,
   "id": "540e96fc",
   "metadata": {},
   "outputs": [
    {
     "data": {
      "text/plain": [
       "<AxesSubplot:xlabel='Revenues ($M)', ylabel='Density'>"
      ]
     },
     "execution_count": 101,
     "metadata": {},
     "output_type": "execute_result"
    },
    {
     "data": {
      "image/png": "[encoded data removed]",
      "text/plain": [
       "<Figure size 432x288 with 1 Axes>"
      ]
     },
     "metadata": {
      "needs_background": "light"
     },
     "output_type": "display_data"
    }
   ],
   "source": [
    "sns.distplot(np.log(fortune['Revenues ($M)']))"
   ]
  },
  {
   "cell_type": "markdown",
   "id": "1a843418",
   "metadata": {},
   "source": [
    "##### The above plot shows that the skewness is still there even after applying log to the variable"
   ]
  },
  {
   "cell_type": "markdown",
   "id": "24b624ba",
   "metadata": {},
   "source": [
    "#### -Checking outliers in 'Profits ($M)' column"
   ]
  },
  {
   "cell_type": "code",
   "execution_count": 102,
   "id": "a0af9931",
   "metadata": {},
   "outputs": [
    {
     "data": {
      "text/plain": [
       "<AxesSubplot:xlabel='Profits ($M)', ylabel='Density'>"
      ]
     },
     "execution_count": 102,
     "metadata": {},
     "output_type": "execute_result"
    },
    {
     "data": {
      "image/png": "[encoded data removed]",
      "text/plain": [
       "<Figure size 432x288 with 1 Axes>"
      ]
     },
     "metadata": {
      "needs_background": "light"
     },
     "output_type": "display_data"
    }
   ],
   "source": [
    "sns.distplot(fortune['Profits ($M)'])"
   ]
  },
  {
   "cell_type": "markdown",
   "id": "0ef8fec1",
   "metadata": {},
   "source": [
    "##### The above distribution plot shows that the values are right skewed"
   ]
  },
  {
   "cell_type": "code",
   "execution_count": 103,
   "id": "b0ba717e",
   "metadata": {},
   "outputs": [
    {
     "data": {
      "text/plain": [
       "<AxesSubplot:xlabel='Profits ($M)'>"
      ]
     },
     "execution_count": 103,
     "metadata": {},
     "output_type": "execute_result"
    },
    {
     "data": {
      "image/png": "[encoded data removed]",
      "text/plain": [
       "<Figure size 432x288 with 1 Axes>"
      ]
     },
     "metadata": {
      "needs_background": "light"
     },
     "output_type": "display_data"
    }
   ],
   "source": [
    "sns.boxplot(fortune['Profits ($M)'])"
   ]
  },
  {
   "cell_type": "markdown",
   "id": "6891dc0b",
   "metadata": {},
   "source": [
    "##### The above box plot shows that the outlier values are beyond 20k $M"
   ]
  },
  {
   "cell_type": "code",
   "execution_count": 104,
   "id": "ef62cc47",
   "metadata": {},
   "outputs": [
    {
     "name": "stdout",
     "output_type": "stream",
     "text": [
      "Mean= 3671.1092000000003\n",
      "Stndrd Dev= 8739.228303544623\n",
      "No. of outliers= 8\n"
     ]
    }
   ],
   "source": [
    "mP=np.mean(fortune['Profits ($M)'])\n",
    "sdP=np.std(fortune['Profits ($M)'])\n",
    "out_count_profit=fortune.loc[fortune['Profits ($M)']>mP+3*sdP, 'Rank'].count()\n",
    "print('Mean=',mP)\n",
    "print('Stndrd Dev=', sdP)\n",
    "print('No. of outliers=',out_count_profit)"
   ]
  },
  {
   "cell_type": "code",
   "execution_count": 105,
   "id": "5e4cf584",
   "metadata": {},
   "outputs": [
    {
     "data": {
      "text/plain": [
       "<AxesSubplot:ylabel='Density'>"
      ]
     },
     "execution_count": 105,
     "metadata": {},
     "output_type": "execute_result"
    },
    {
     "data": {
      "image/png": "[encoded data removed]",
      "text/plain": [
       "<Figure size 432x288 with 1 Axes>"
      ]
     },
     "metadata": {
      "needs_background": "light"
     },
     "output_type": "display_data"
    }
   ],
   "source": [
    "sns.distplot(np.where(fortune['Profits ($M)']>mP+3*sdP,mP+3*sdP,fortune['Profits ($M)']))"
   ]
  },
  {
   "cell_type": "markdown",
   "id": "fcfd13af",
   "metadata": {},
   "source": [
    "##### The above distribution plot demonstrates that by applying the M+3SD rule to the outliers, the skewness is reduced"
   ]
  },
  {
   "cell_type": "code",
   "execution_count": 106,
   "id": "bc4a2749",
   "metadata": {},
   "outputs": [
    {
     "data": {
      "text/plain": [
       "<AxesSubplot:xlabel='Profits ($M)', ylabel='Density'>"
      ]
     },
     "execution_count": 106,
     "metadata": {},
     "output_type": "execute_result"
    },
    {
     "data": {
      "image/png": "[encoded data removed]",
      "text/plain": [
       "<Figure size 432x288 with 1 Axes>"
      ]
     },
     "metadata": {
      "needs_background": "light"
     },
     "output_type": "display_data"
    }
   ],
   "source": [
    "sns.distplot(np.sqrt(fortune['Profits ($M)']))"
   ]
  },
  {
   "cell_type": "markdown",
   "id": "90edd36b",
   "metadata": {},
   "source": [
    "##### The above plot shows that even after applying square root to the variable the skewness still remains"
   ]
  },
  {
   "cell_type": "markdown",
   "id": "58155c30",
   "metadata": {},
   "source": [
    "#### Checking the 'Assets ($M)' column:"
   ]
  },
  {
   "cell_type": "code",
   "execution_count": 107,
   "id": "feab8204",
   "metadata": {},
   "outputs": [
    {
     "data": {
      "text/plain": [
       "<AxesSubplot:xlabel='Assets ($M)', ylabel='Density'>"
      ]
     },
     "execution_count": 107,
     "metadata": {},
     "output_type": "execute_result"
    },
    {
     "data": {
      "image/png": "[encoded data removed]",
      "text/plain": [
       "<Figure size 432x288 with 1 Axes>"
      ]
     },
     "metadata": {
      "needs_background": "light"
     },
     "output_type": "display_data"
    }
   ],
   "source": [
    "sns.distplot(fortune['Assets ($M)'])"
   ]
  },
  {
   "cell_type": "markdown",
   "id": "bebcbc83",
   "metadata": {},
   "source": [
    "##### The above plot shows that the distribution of Assets is right skewed"
   ]
  },
  {
   "cell_type": "code",
   "execution_count": 108,
   "id": "d89ce2dd",
   "metadata": {},
   "outputs": [
    {
     "data": {
      "text/plain": [
       "<AxesSubplot:xlabel='Assets ($M)'>"
      ]
     },
     "execution_count": 108,
     "metadata": {},
     "output_type": "execute_result"
    },
    {
     "data": {
      "image/png": "[encoded data removed]",
      "text/plain": [
       "<Figure size 432x288 with 1 Axes>"
      ]
     },
     "metadata": {
      "needs_background": "light"
     },
     "output_type": "display_data"
    }
   ],
   "source": [
    "sns.boxplot(fortune['Assets ($M)'])"
   ]
  },
  {
   "cell_type": "markdown",
   "id": "a74a75f9",
   "metadata": {},
   "source": [
    "##### The above plot shows that the outliers are beyond 1 $M"
   ]
  },
  {
   "cell_type": "code",
   "execution_count": 109,
   "id": "47cefa15",
   "metadata": {},
   "outputs": [
    {
     "data": {
      "text/plain": [
       "count        500.00\n",
       "mean      109765.60\n",
       "std       366615.80\n",
       "min         1191.60\n",
       "25%        12614.82\n",
       "50%        27172.90\n",
       "75%        69525.73\n",
       "max      4229166.00\n",
       "Name: Assets ($M), dtype: float64"
      ]
     },
     "execution_count": 109,
     "metadata": {},
     "output_type": "execute_result"
    }
   ],
   "source": [
    "round(fortune['Assets ($M)'].describe(),2)"
   ]
  },
  {
   "cell_type": "code",
   "execution_count": 110,
   "id": "55b06ad2",
   "metadata": {},
   "outputs": [
    {
     "data": {
      "text/plain": [
       "1208512.59"
      ]
     },
     "execution_count": 110,
     "metadata": {},
     "output_type": "execute_result"
    }
   ],
   "source": [
    "mA=np.mean(fortune['Assets ($M)'])\n",
    "stdA=np.std(fortune['Assets ($M)'])\n",
    "a=mA+3*stdA\n",
    "round(a,2)"
   ]
  },
  {
   "cell_type": "code",
   "execution_count": 111,
   "id": "20326f19",
   "metadata": {},
   "outputs": [
    {
     "name": "stdout",
     "output_type": "stream",
     "text": [
      "Mean= 109765.59740000003\n",
      "Stndrd Dev= 366248.99700764334\n",
      "No. of outliers= 7\n"
     ]
    }
   ],
   "source": [
    "mA=np.mean(fortune['Assets ($M)'])\n",
    "stdA=np.std(fortune['Assets ($M)'])\n",
    "out_count_assets=fortune.loc[fortune['Assets ($M)']>a, 'Rank'].count()\n",
    "print('Mean=',mA)\n",
    "print('Stndrd Dev=', stdA)\n",
    "print('No. of outliers=',out_count_assets)"
   ]
  },
  {
   "cell_type": "code",
   "execution_count": null,
   "id": "8ed76416",
   "metadata": {},
   "outputs": [],
   "source": []
  },
  {
   "cell_type": "code",
   "execution_count": 112,
   "id": "8ccb2fc7",
   "metadata": {},
   "outputs": [
    {
     "data": {
      "text/plain": [
       "<AxesSubplot:ylabel='Frequency'>"
      ]
     },
     "execution_count": 112,
     "metadata": {},
     "output_type": "execute_result"
    },
    {
     "data": {
      "image/png": "[encoded data removed]",
      "text/plain": [
       "<Figure size 432x288 with 1 Axes>"
      ]
     },
     "metadata": {
      "needs_background": "light"
     },
     "output_type": "display_data"
    }
   ],
   "source": [
    "fortune['Assets ($M)'].plot(kind='hist')"
   ]
  },
  {
   "cell_type": "markdown",
   "id": "a6a2608c",
   "metadata": {},
   "source": [
    "## Bivariate Analysis"
   ]
  },
  {
   "cell_type": "code",
   "execution_count": 113,
   "id": "d6d8a6e4",
   "metadata": {},
   "outputs": [],
   "source": [
    "# sns.boxplot(fortune['Revenues ($M)'],fortune['Assets ($M)'])\n",
    "\n",
    "# The box plot does not help us draw any insights from it"
   ]
  },
  {
   "cell_type": "code",
   "execution_count": 114,
   "id": "e0f523df",
   "metadata": {},
   "outputs": [],
   "source": [
    "###### The above plot shows that the companies with high Revenues also have high Assets"
   ]
  },
  {
   "cell_type": "code",
   "execution_count": 115,
   "id": "834a3bcd",
   "metadata": {},
   "outputs": [],
   "source": [
    "# sns.violinplot(fortune['Revenues ($M)'],fortune['Assets ($M)'])\n",
    "\n",
    "## The violin plot does not help us draw any particular insights from it"
   ]
  },
  {
   "cell_type": "code",
   "execution_count": 116,
   "id": "f99a01c4",
   "metadata": {},
   "outputs": [],
   "source": [
    "###### The above plot shows that the companies with high Revenues also have high Assets"
   ]
  },
  {
   "cell_type": "code",
   "execution_count": 117,
   "id": "a822cdf3",
   "metadata": {},
   "outputs": [
    {
     "data": {
      "text/plain": [
       "<AxesSubplot:xlabel='Revenues ($M)', ylabel='Assets ($M)'>"
      ]
     },
     "execution_count": 117,
     "metadata": {},
     "output_type": "execute_result"
    },
    {
     "data": {
      "image/png": "[encoded data removed]",
      "text/plain": [
       "<Figure size 432x288 with 1 Axes>"
      ]
     },
     "metadata": {
      "needs_background": "light"
     },
     "output_type": "display_data"
    }
   ],
   "source": [
    "sns.scatterplot(fortune['Revenues ($M)'],fortune['Assets ($M)'])"
   ]
  },
  {
   "cell_type": "code",
   "execution_count": 118,
   "id": "eef0b63f",
   "metadata": {},
   "outputs": [
    {
     "name": "stdout",
     "output_type": "stream",
     "text": [
      "<class 'pandas.core.frame.DataFrame'>\n",
      "RangeIndex: 500 entries, 0 to 499\n",
      "Data columns (total 9 columns):\n",
      " #   Column                                    Non-Null Count  Dtype  \n",
      "---  ------                                    --------------  -----  \n",
      " 0   Rank                                      500 non-null    int64  \n",
      " 1   Name                                      500 non-null    object \n",
      " 2   Revenues ($M)                             500 non-null    float64\n",
      " 3   Revenue Percent Change                    500 non-null    float64\n",
      " 4   Profits ($M)                              500 non-null    float64\n",
      " 5   Profits Percent Change                    500 non-null    float64\n",
      " 6   Assets ($M)                               500 non-null    float64\n",
      " 7   Market Value - as of March 31, 2022 ($M)  500 non-null    float64\n",
      " 8   Employees                                 500 non-null    float64\n",
      "dtypes: float64(7), int64(1), object(1)\n",
      "memory usage: 35.3+ KB\n"
     ]
    }
   ],
   "source": [
    "fortune.info()"
   ]
  },
  {
   "cell_type": "code",
   "execution_count": 141,
   "id": "abe1621a",
   "metadata": {},
   "outputs": [
    {
     "data": {
      "text/plain": [
       "(array([-100.,    0.,  100.,  200.,  300.,  400.,  500.,  600.]),\n",
       " [Text(0, 0, ''),\n",
       "  Text(0, 0, ''),\n",
       "  Text(0, 0, ''),\n",
       "  Text(0, 0, ''),\n",
       "  Text(0, 0, ''),\n",
       "  Text(0, 0, ''),\n",
       "  Text(0, 0, ''),\n",
       "  Text(0, 0, '')])"
      ]
     },
     "execution_count": 141,
     "metadata": {},
     "output_type": "execute_result"
    },
    {
     "data": {
      "image/png": "[encoded data removed]",
      "text/plain": [
       "<Figure size 432x288 with 1 Axes>"
      ]
     },
     "metadata": {
      "needs_background": "light"
     },
     "output_type": "display_data"
    }
   ],
   "source": [
    "sns.scatterplot(fortune['Rank'],fortune['Assets ($M)'])\n",
    "plt.xticks(rotation=90)"
   ]
  },
  {
   "cell_type": "code",
   "execution_count": 120,
   "id": "1a06f144",
   "metadata": {},
   "outputs": [],
   "source": [
    "#sns.barplot(fortune['Rank'], fortune['Assets ($M)'])\n",
    "#plt.xticks(rotation=90)\n",
    "#plt.show()"
   ]
  },
  {
   "cell_type": "code",
   "execution_count": 121,
   "id": "4f9b3ad7",
   "metadata": {},
   "outputs": [
    {
     "data": {
      "text/plain": [
       "0        1\n",
       "1        2\n",
       "2        3\n",
       "3        4\n",
       "4        5\n",
       "      ... \n",
       "495    496\n",
       "496    497\n",
       "497    498\n",
       "498    499\n",
       "499    500\n",
       "Name: Rank, Length: 500, dtype: int64"
      ]
     },
     "execution_count": 121,
     "metadata": {},
     "output_type": "execute_result"
    }
   ],
   "source": [
    "fortune['Rank']"
   ]
  },
  {
   "cell_type": "code",
   "execution_count": 122,
   "id": "1a41fdfe",
   "metadata": {},
   "outputs": [
    {
     "data": {
      "text/html": [
       "<div>\n",
       "<style scoped>\n",
       "    .dataframe tbody tr th:only-of-type {\n",
       "        vertical-align: middle;\n",
       "    }\n",
       "\n",
       "    .dataframe tbody tr th {\n",
       "        vertical-align: top;\n",
       "    }\n",
       "\n",
       "    .dataframe thead th {\n",
       "        text-align: right;\n",
       "    }\n",
       "</style>\n",
       "<table border=\"1\" class=\"dataframe\">\n",
       "  <thead>\n",
       "    <tr style=\"text-align: right;\">\n",
       "      <th></th>\n",
       "      <th>Rank</th>\n",
       "      <th>Assets ($M)</th>\n",
       "    </tr>\n",
       "  </thead>\n",
       "  <tbody>\n",
       "    <tr>\n",
       "      <th>0</th>\n",
       "      <td>1</td>\n",
       "      <td>244860.0</td>\n",
       "    </tr>\n",
       "    <tr>\n",
       "      <th>1</th>\n",
       "      <td>2</td>\n",
       "      <td>420549.0</td>\n",
       "    </tr>\n",
       "    <tr>\n",
       "      <th>2</th>\n",
       "      <td>3</td>\n",
       "      <td>351002.0</td>\n",
       "    </tr>\n",
       "    <tr>\n",
       "      <th>3</th>\n",
       "      <td>4</td>\n",
       "      <td>232999.0</td>\n",
       "    </tr>\n",
       "    <tr>\n",
       "      <th>4</th>\n",
       "      <td>5</td>\n",
       "      <td>212206.0</td>\n",
       "    </tr>\n",
       "    <tr>\n",
       "      <th>5</th>\n",
       "      <td>6</td>\n",
       "      <td>338923.0</td>\n",
       "    </tr>\n",
       "    <tr>\n",
       "      <th>6</th>\n",
       "      <td>7</td>\n",
       "      <td>958784.0</td>\n",
       "    </tr>\n",
       "    <tr>\n",
       "      <th>7</th>\n",
       "      <td>8</td>\n",
       "      <td>359268.0</td>\n",
       "    </tr>\n",
       "    <tr>\n",
       "      <th>8</th>\n",
       "      <td>9</td>\n",
       "      <td>65015.0</td>\n",
       "    </tr>\n",
       "    <tr>\n",
       "      <th>9</th>\n",
       "      <td>10</td>\n",
       "      <td>57337.8</td>\n",
       "    </tr>\n",
       "    <tr>\n",
       "      <th>10</th>\n",
       "      <td>11</td>\n",
       "      <td>59268.0</td>\n",
       "    </tr>\n",
       "    <tr>\n",
       "      <th>11</th>\n",
       "      <td>12</td>\n",
       "      <td>154889.0</td>\n",
       "    </tr>\n",
       "    <tr>\n",
       "      <th>12</th>\n",
       "      <td>13</td>\n",
       "      <td>551622.0</td>\n",
       "    </tr>\n",
       "    <tr>\n",
       "      <th>13</th>\n",
       "      <td>14</td>\n",
       "      <td>333779.0</td>\n",
       "    </tr>\n",
       "    <tr>\n",
       "      <th>14</th>\n",
       "      <td>15</td>\n",
       "      <td>44453.0</td>\n",
       "    </tr>\n",
       "    <tr>\n",
       "      <th>15</th>\n",
       "      <td>16</td>\n",
       "      <td>239535.0</td>\n",
       "    </tr>\n",
       "    <tr>\n",
       "      <th>16</th>\n",
       "      <td>17</td>\n",
       "      <td>71876.0</td>\n",
       "    </tr>\n",
       "    <tr>\n",
       "      <th>17</th>\n",
       "      <td>18</td>\n",
       "      <td>81285.0</td>\n",
       "    </tr>\n",
       "    <tr>\n",
       "      <th>18</th>\n",
       "      <td>19</td>\n",
       "      <td>85373.0</td>\n",
       "    </tr>\n",
       "    <tr>\n",
       "      <th>19</th>\n",
       "      <td>20</td>\n",
       "      <td>97460.0</td>\n",
       "    </tr>\n",
       "    <tr>\n",
       "      <th>20</th>\n",
       "      <td>21</td>\n",
       "      <td>49086.0</td>\n",
       "    </tr>\n",
       "  </tbody>\n",
       "</table>\n",
       "</div>"
      ],
      "text/plain": [
       "    Rank  Assets ($M)\n",
       "0      1     244860.0\n",
       "1      2     420549.0\n",
       "2      3     351002.0\n",
       "3      4     232999.0\n",
       "4      5     212206.0\n",
       "5      6     338923.0\n",
       "6      7     958784.0\n",
       "7      8     359268.0\n",
       "8      9      65015.0\n",
       "9     10      57337.8\n",
       "10    11      59268.0\n",
       "11    12     154889.0\n",
       "12    13     551622.0\n",
       "13    14     333779.0\n",
       "14    15      44453.0\n",
       "15    16     239535.0\n",
       "16    17      71876.0\n",
       "17    18      81285.0\n",
       "18    19      85373.0\n",
       "19    20      97460.0\n",
       "20    21      49086.0"
      ]
     },
     "execution_count": 122,
     "metadata": {},
     "output_type": "execute_result"
    }
   ],
   "source": [
    "fortune.loc[0:20,['Rank','Assets ($M)']]"
   ]
  },
  {
   "cell_type": "code",
   "execution_count": 145,
   "id": "21422b99",
   "metadata": {},
   "outputs": [
    {
     "data": {
      "text/plain": [
       "<AxesSubplot:xlabel='Rank', ylabel='Profits ($M)'>"
      ]
     },
     "execution_count": 145,
     "metadata": {},
     "output_type": "execute_result"
    },
    {
     "data": {
      "image/png": "[encoded data removed]",
      "text/plain": [
       "<Figure size 432x288 with 1 Axes>"
      ]
     },
     "metadata": {
      "needs_background": "light"
     },
     "output_type": "display_data"
    }
   ],
   "source": [
    "y = pd.DataFrame(fortune.loc[0:20,['Rank','Profits ($M)']])\n",
    "#y\n",
    "\n",
    "sns.barplot(y['Rank'],y['Profits ($M)'])"
   ]
  },
  {
   "cell_type": "code",
   "execution_count": 142,
   "id": "98bcbae0",
   "metadata": {},
   "outputs": [
    {
     "data": {
      "text/plain": [
       "<AxesSubplot:xlabel='Rank', ylabel='Assets ($M)'>"
      ]
     },
     "execution_count": 142,
     "metadata": {},
     "output_type": "execute_result"
    },
    {
     "data": {
      "image/png": "[encoded data removed]",
      "text/plain": [
       "<Figure size 432x288 with 1 Axes>"
      ]
     },
     "metadata": {
      "needs_background": "light"
     },
     "output_type": "display_data"
    }
   ],
   "source": [
    "x=pd.DataFrame(fortune.loc[0:20,['Rank','Assets ($M)']])\n",
    "#x\n",
    "sns.barplot(x['Rank'],x['Assets ($M)'])"
   ]
  },
  {
   "cell_type": "markdown",
   "id": "c439e58c",
   "metadata": {},
   "source": [
    "##### The above bar plot shows how the Assets vary with the company's rank "
   ]
  },
  {
   "cell_type": "code",
   "execution_count": 124,
   "id": "72baaf4e",
   "metadata": {},
   "outputs": [],
   "source": [
    "r=pd.DataFrame(fortune['Rank'].value_counts())\n",
    "r.reset_index(inplace=True)"
   ]
  },
  {
   "cell_type": "code",
   "execution_count": 125,
   "id": "56809125",
   "metadata": {},
   "outputs": [
    {
     "data": {
      "text/html": [
       "<div>\n",
       "<style scoped>\n",
       "    .dataframe tbody tr th:only-of-type {\n",
       "        vertical-align: middle;\n",
       "    }\n",
       "\n",
       "    .dataframe tbody tr th {\n",
       "        vertical-align: top;\n",
       "    }\n",
       "\n",
       "    .dataframe thead th {\n",
       "        text-align: right;\n",
       "    }\n",
       "</style>\n",
       "<table border=\"1\" class=\"dataframe\">\n",
       "  <thead>\n",
       "    <tr style=\"text-align: right;\">\n",
       "      <th></th>\n",
       "      <th>index</th>\n",
       "      <th>Rank</th>\n",
       "    </tr>\n",
       "  </thead>\n",
       "  <tbody>\n",
       "    <tr>\n",
       "      <th>0</th>\n",
       "      <td>466</td>\n",
       "      <td>2</td>\n",
       "    </tr>\n",
       "    <tr>\n",
       "      <th>1</th>\n",
       "      <td>1</td>\n",
       "      <td>1</td>\n",
       "    </tr>\n",
       "    <tr>\n",
       "      <th>2</th>\n",
       "      <td>329</td>\n",
       "      <td>1</td>\n",
       "    </tr>\n",
       "    <tr>\n",
       "      <th>3</th>\n",
       "      <td>341</td>\n",
       "      <td>1</td>\n",
       "    </tr>\n",
       "    <tr>\n",
       "      <th>4</th>\n",
       "      <td>340</td>\n",
       "      <td>1</td>\n",
       "    </tr>\n",
       "    <tr>\n",
       "      <th>5</th>\n",
       "      <td>339</td>\n",
       "      <td>1</td>\n",
       "    </tr>\n",
       "    <tr>\n",
       "      <th>6</th>\n",
       "      <td>338</td>\n",
       "      <td>1</td>\n",
       "    </tr>\n",
       "    <tr>\n",
       "      <th>7</th>\n",
       "      <td>337</td>\n",
       "      <td>1</td>\n",
       "    </tr>\n",
       "    <tr>\n",
       "      <th>8</th>\n",
       "      <td>336</td>\n",
       "      <td>1</td>\n",
       "    </tr>\n",
       "    <tr>\n",
       "      <th>9</th>\n",
       "      <td>335</td>\n",
       "      <td>1</td>\n",
       "    </tr>\n",
       "    <tr>\n",
       "      <th>10</th>\n",
       "      <td>334</td>\n",
       "      <td>1</td>\n",
       "    </tr>\n",
       "    <tr>\n",
       "      <th>11</th>\n",
       "      <td>333</td>\n",
       "      <td>1</td>\n",
       "    </tr>\n",
       "    <tr>\n",
       "      <th>12</th>\n",
       "      <td>332</td>\n",
       "      <td>1</td>\n",
       "    </tr>\n",
       "    <tr>\n",
       "      <th>13</th>\n",
       "      <td>331</td>\n",
       "      <td>1</td>\n",
       "    </tr>\n",
       "    <tr>\n",
       "      <th>14</th>\n",
       "      <td>330</td>\n",
       "      <td>1</td>\n",
       "    </tr>\n",
       "    <tr>\n",
       "      <th>15</th>\n",
       "      <td>328</td>\n",
       "      <td>1</td>\n",
       "    </tr>\n",
       "    <tr>\n",
       "      <th>16</th>\n",
       "      <td>343</td>\n",
       "      <td>1</td>\n",
       "    </tr>\n",
       "    <tr>\n",
       "      <th>17</th>\n",
       "      <td>327</td>\n",
       "      <td>1</td>\n",
       "    </tr>\n",
       "    <tr>\n",
       "      <th>18</th>\n",
       "      <td>326</td>\n",
       "      <td>1</td>\n",
       "    </tr>\n",
       "    <tr>\n",
       "      <th>19</th>\n",
       "      <td>325</td>\n",
       "      <td>1</td>\n",
       "    </tr>\n",
       "    <tr>\n",
       "      <th>20</th>\n",
       "      <td>324</td>\n",
       "      <td>1</td>\n",
       "    </tr>\n",
       "    <tr>\n",
       "      <th>21</th>\n",
       "      <td>323</td>\n",
       "      <td>1</td>\n",
       "    </tr>\n",
       "  </tbody>\n",
       "</table>\n",
       "</div>"
      ],
      "text/plain": [
       "    index  Rank\n",
       "0     466     2\n",
       "1       1     1\n",
       "2     329     1\n",
       "3     341     1\n",
       "4     340     1\n",
       "5     339     1\n",
       "6     338     1\n",
       "7     337     1\n",
       "8     336     1\n",
       "9     335     1\n",
       "10    334     1\n",
       "11    333     1\n",
       "12    332     1\n",
       "13    331     1\n",
       "14    330     1\n",
       "15    328     1\n",
       "16    343     1\n",
       "17    327     1\n",
       "18    326     1\n",
       "19    325     1\n",
       "20    324     1\n",
       "21    323     1"
      ]
     },
     "execution_count": 125,
     "metadata": {},
     "output_type": "execute_result"
    }
   ],
   "source": [
    "r.loc[0:21,]"
   ]
  },
  {
   "cell_type": "code",
   "execution_count": 126,
   "id": "de9e4289",
   "metadata": {},
   "outputs": [
    {
     "data": {
      "text/plain": [
       "<AxesSubplot:xlabel='Rank', ylabel='Revenues ($M)'>"
      ]
     },
     "execution_count": 126,
     "metadata": {},
     "output_type": "execute_result"
    },
    {
     "data": {
      "image/png": "[encoded data removed]",
      "text/plain": [
       "<Figure size 432x288 with 1 Axes>"
      ]
     },
     "metadata": {
      "needs_background": "light"
     },
     "output_type": "display_data"
    }
   ],
   "source": [
    "sns.barplot(fortune['Rank'],fortune['Revenues ($M)'])"
   ]
  },
  {
   "cell_type": "markdown",
   "id": "0392bf25",
   "metadata": {},
   "source": [
    "##### The above plot shows that the Rank and Revenue are co-related. \n",
    "##### It shows that the top ranked company has the highest revenue and vice versa."
   ]
  },
  {
   "cell_type": "code",
   "execution_count": 127,
   "id": "d0c94c19",
   "metadata": {},
   "outputs": [
    {
     "data": {
      "text/plain": [
       "<AxesSubplot:xlabel='Rank', ylabel='Revenues ($M)'>"
      ]
     },
     "execution_count": 127,
     "metadata": {},
     "output_type": "execute_result"
    },
    {
     "data": {
      "image/png": "[encoded data removed]",
      "text/plain": [
       "<Figure size 432x288 with 1 Axes>"
      ]
     },
     "metadata": {
      "needs_background": "light"
     },
     "output_type": "display_data"
    }
   ],
   "source": [
    "y=fortune.loc[0:19,['Rank','Revenues ($M)']]\n",
    "#y\n",
    "sns.barplot(y['Rank'],y['Revenues ($M)'])"
   ]
  },
  {
   "cell_type": "markdown",
   "id": "2501e6d1",
   "metadata": {},
   "source": [
    "##### The above plot shows that the Rank and Revenue are co-related. \n",
    "##### It shows that the top ranked company has the highest revenue and vice versa."
   ]
  },
  {
   "cell_type": "code",
   "execution_count": 128,
   "id": "465ff1d1",
   "metadata": {},
   "outputs": [
    {
     "data": {
      "text/plain": [
       "<AxesSubplot:xlabel='Rank', ylabel='Profits ($M)'>"
      ]
     },
     "execution_count": 128,
     "metadata": {},
     "output_type": "execute_result"
    },
    {
     "data": {
      "image/png": "[encoded data removed]",
      "text/plain": [
       "<Figure size 432x288 with 1 Axes>"
      ]
     },
     "metadata": {
      "needs_background": "light"
     },
     "output_type": "display_data"
    }
   ],
   "source": [
    "sns.barplot(fortune['Rank'],fortune['Profits ($M)']) "
   ]
  },
  {
   "cell_type": "markdown",
   "id": "b7cac16c",
   "metadata": {},
   "source": [
    "##### The above plot shows that how the profits of the companies based on thier ranks. \n",
    "##### The profits are not directly dependent on the rank of the company."
   ]
  },
  {
   "cell_type": "code",
   "execution_count": 129,
   "id": "b267116c",
   "metadata": {},
   "outputs": [
    {
     "data": {
      "text/plain": [
       "<AxesSubplot:xlabel='Rank', ylabel='Profits ($M)'>"
      ]
     },
     "execution_count": 129,
     "metadata": {},
     "output_type": "execute_result"
    },
    {
     "data": {
      "image/png": "[encoded data removed]",
      "text/plain": [
       "<Figure size 432x288 with 1 Axes>"
      ]
     },
     "metadata": {
      "needs_background": "light"
     },
     "output_type": "display_data"
    }
   ],
   "source": [
    "z=fortune.loc[0:19,['Rank','Profits ($M)']]\n",
    "#z\n",
    "sns.barplot(z['Rank'],z['Profits ($M)'])"
   ]
  },
  {
   "cell_type": "markdown",
   "id": "cf44abd9",
   "metadata": {},
   "source": [
    "##### The above plot clearly illustrates that the Profits generated are independent of the ranking"
   ]
  },
  {
   "cell_type": "markdown",
   "id": "7c0abb28",
   "metadata": {},
   "source": [
    "## Multivariate Analysis"
   ]
  },
  {
   "cell_type": "markdown",
   "id": "1f0077f8",
   "metadata": {},
   "source": [
    "##### Checking how the different metrics are related to eah other."
   ]
  },
  {
   "cell_type": "code",
   "execution_count": 130,
   "id": "6e911b87",
   "metadata": {},
   "outputs": [
    {
     "data": {
      "text/html": [
       "<div>\n",
       "<style scoped>\n",
       "    .dataframe tbody tr th:only-of-type {\n",
       "        vertical-align: middle;\n",
       "    }\n",
       "\n",
       "    .dataframe tbody tr th {\n",
       "        vertical-align: top;\n",
       "    }\n",
       "\n",
       "    .dataframe thead th {\n",
       "        text-align: right;\n",
       "    }\n",
       "</style>\n",
       "<table border=\"1\" class=\"dataframe\">\n",
       "  <thead>\n",
       "    <tr style=\"text-align: right;\">\n",
       "      <th></th>\n",
       "      <th>Rank</th>\n",
       "      <th>Revenues ($M)</th>\n",
       "      <th>Revenue Percent Change</th>\n",
       "      <th>Profits ($M)</th>\n",
       "      <th>Profits Percent Change</th>\n",
       "      <th>Assets ($M)</th>\n",
       "      <th>Market Value - as of March 31, 2022 ($M)</th>\n",
       "      <th>Employees</th>\n",
       "    </tr>\n",
       "  </thead>\n",
       "  <tbody>\n",
       "    <tr>\n",
       "      <th>Rank</th>\n",
       "      <td>1.00</td>\n",
       "      <td>-0.59</td>\n",
       "      <td>0.01</td>\n",
       "      <td>-0.41</td>\n",
       "      <td>-0.05</td>\n",
       "      <td>-0.29</td>\n",
       "      <td>-0.34</td>\n",
       "      <td>-0.34</td>\n",
       "    </tr>\n",
       "    <tr>\n",
       "      <th>Revenues ($M)</th>\n",
       "      <td>-0.59</td>\n",
       "      <td>1.00</td>\n",
       "      <td>-0.03</td>\n",
       "      <td>0.62</td>\n",
       "      <td>-0.04</td>\n",
       "      <td>0.26</td>\n",
       "      <td>0.60</td>\n",
       "      <td>0.72</td>\n",
       "    </tr>\n",
       "    <tr>\n",
       "      <th>Revenue Percent Change</th>\n",
       "      <td>0.01</td>\n",
       "      <td>-0.03</td>\n",
       "      <td>1.00</td>\n",
       "      <td>0.03</td>\n",
       "      <td>0.06</td>\n",
       "      <td>-0.05</td>\n",
       "      <td>-0.00</td>\n",
       "      <td>-0.06</td>\n",
       "    </tr>\n",
       "    <tr>\n",
       "      <th>Profits ($M)</th>\n",
       "      <td>-0.41</td>\n",
       "      <td>0.62</td>\n",
       "      <td>0.03</td>\n",
       "      <td>1.00</td>\n",
       "      <td>0.02</td>\n",
       "      <td>0.44</td>\n",
       "      <td>0.82</td>\n",
       "      <td>0.30</td>\n",
       "    </tr>\n",
       "    <tr>\n",
       "      <th>Profits Percent Change</th>\n",
       "      <td>-0.05</td>\n",
       "      <td>-0.04</td>\n",
       "      <td>0.06</td>\n",
       "      <td>0.02</td>\n",
       "      <td>1.00</td>\n",
       "      <td>-0.00</td>\n",
       "      <td>0.00</td>\n",
       "      <td>0.03</td>\n",
       "    </tr>\n",
       "    <tr>\n",
       "      <th>Assets ($M)</th>\n",
       "      <td>-0.29</td>\n",
       "      <td>0.26</td>\n",
       "      <td>-0.05</td>\n",
       "      <td>0.44</td>\n",
       "      <td>-0.00</td>\n",
       "      <td>1.00</td>\n",
       "      <td>0.16</td>\n",
       "      <td>0.13</td>\n",
       "    </tr>\n",
       "    <tr>\n",
       "      <th>Market Value - as of March 31, 2022 ($M)</th>\n",
       "      <td>-0.34</td>\n",
       "      <td>0.60</td>\n",
       "      <td>-0.00</td>\n",
       "      <td>0.82</td>\n",
       "      <td>0.00</td>\n",
       "      <td>0.16</td>\n",
       "      <td>1.00</td>\n",
       "      <td>0.34</td>\n",
       "    </tr>\n",
       "    <tr>\n",
       "      <th>Employees</th>\n",
       "      <td>-0.34</td>\n",
       "      <td>0.72</td>\n",
       "      <td>-0.06</td>\n",
       "      <td>0.30</td>\n",
       "      <td>0.03</td>\n",
       "      <td>0.13</td>\n",
       "      <td>0.34</td>\n",
       "      <td>1.00</td>\n",
       "    </tr>\n",
       "  </tbody>\n",
       "</table>\n",
       "</div>"
      ],
      "text/plain": [
       "                                          Rank  Revenues ($M)  \\\n",
       "Rank                                      1.00          -0.59   \n",
       "Revenues ($M)                            -0.59           1.00   \n",
       "Revenue Percent Change                    0.01          -0.03   \n",
       "Profits ($M)                             -0.41           0.62   \n",
       "Profits Percent Change                   -0.05          -0.04   \n",
       "Assets ($M)                              -0.29           0.26   \n",
       "Market Value - as of March 31, 2022 ($M) -0.34           0.60   \n",
       "Employees                                -0.34           0.72   \n",
       "\n",
       "                                          Revenue Percent Change  \\\n",
       "Rank                                                        0.01   \n",
       "Revenues ($M)                                              -0.03   \n",
       "Revenue Percent Change                                      1.00   \n",
       "Profits ($M)                                                0.03   \n",
       "Profits Percent Change                                      0.06   \n",
       "Assets ($M)                                                -0.05   \n",
       "Market Value - as of March 31, 2022 ($M)                   -0.00   \n",
       "Employees                                                  -0.06   \n",
       "\n",
       "                                          Profits ($M)  \\\n",
       "Rank                                             -0.41   \n",
       "Revenues ($M)                                     0.62   \n",
       "Revenue Percent Change                            0.03   \n",
       "Profits ($M)                                      1.00   \n",
       "Profits Percent Change                            0.02   \n",
       "Assets ($M)                                       0.44   \n",
       "Market Value - as of March 31, 2022 ($M)          0.82   \n",
       "Employees                                         0.30   \n",
       "\n",
       "                                          Profits Percent Change  Assets ($M)  \\\n",
       "Rank                                                       -0.05        -0.29   \n",
       "Revenues ($M)                                              -0.04         0.26   \n",
       "Revenue Percent Change                                      0.06        -0.05   \n",
       "Profits ($M)                                                0.02         0.44   \n",
       "Profits Percent Change                                      1.00        -0.00   \n",
       "Assets ($M)                                                -0.00         1.00   \n",
       "Market Value - as of March 31, 2022 ($M)                    0.00         0.16   \n",
       "Employees                                                   0.03         0.13   \n",
       "\n",
       "                                          Market Value - as of March 31, 2022 ($M)  \\\n",
       "Rank                                                                         -0.34   \n",
       "Revenues ($M)                                                                 0.60   \n",
       "Revenue Percent Change                                                       -0.00   \n",
       "Profits ($M)                                                                  0.82   \n",
       "Profits Percent Change                                                        0.00   \n",
       "Assets ($M)                                                                   0.16   \n",
       "Market Value - as of March 31, 2022 ($M)                                      1.00   \n",
       "Employees                                                                     0.34   \n",
       "\n",
       "                                          Employees  \n",
       "Rank                                          -0.34  \n",
       "Revenues ($M)                                  0.72  \n",
       "Revenue Percent Change                        -0.06  \n",
       "Profits ($M)                                   0.30  \n",
       "Profits Percent Change                         0.03  \n",
       "Assets ($M)                                    0.13  \n",
       "Market Value - as of March 31, 2022 ($M)       0.34  \n",
       "Employees                                      1.00  "
      ]
     },
     "execution_count": 130,
     "metadata": {},
     "output_type": "execute_result"
    }
   ],
   "source": [
    "round(fortune.corr(),2)"
   ]
  },
  {
   "cell_type": "code",
   "execution_count": 131,
   "id": "acc6aa05",
   "metadata": {},
   "outputs": [
    {
     "data": {
      "text/plain": [
       "<AxesSubplot:>"
      ]
     },
     "execution_count": 131,
     "metadata": {},
     "output_type": "execute_result"
    },
    {
     "data": {
      "image/png": "[encoded data removed]",
      "text/plain": [
       "<Figure size 432x288 with 2 Axes>"
      ]
     },
     "metadata": {
      "needs_background": "light"
     },
     "output_type": "display_data"
    }
   ],
   "source": [
    "sns.heatmap(fortune.corr(),annot=True)"
   ]
  },
  {
   "cell_type": "markdown",
   "id": "3ab80318",
   "metadata": {},
   "source": [
    "##### The above plot maps how the different numeric columns are co-related to each other.\n",
    "##### Positive values specify high degree of co-relation between two variables. \n",
    "##### Taking a correlation threshold of 0.5, the following conclusions can be made:\n",
    "        1. Rank and Revenues are negatively correlated\n",
    "        2. Rank and Profits are negatively correlated\n",
    "        3. Rank and Assets are negatively correlated\n",
    "        4. Assets and Revenues are less positively correlated\n",
    "        5. Revenues and Employees are highly positively correlated"
   ]
  },
  {
   "cell_type": "markdown",
   "id": "71a873cc",
   "metadata": {},
   "source": [
    "<h1 style='color:blue'> More on Data Analysis </h1>"
   ]
  },
  {
   "cell_type": "markdown",
   "id": "ffa17102",
   "metadata": {},
   "source": [
    "### Whats the company with the highest number of employees?"
   ]
  },
  {
   "cell_type": "code",
   "execution_count": 132,
   "id": "26eacc53",
   "metadata": {},
   "outputs": [],
   "source": [
    "# METHOD 1\n",
    "#Sorting the data set in the order of number of employees hired.\n",
    "highest_emp=pd.DataFrame(fortune.sort_values(by='Employees',ascending=False))"
   ]
  },
  {
   "cell_type": "code",
   "execution_count": 133,
   "id": "a7ab3cb7",
   "metadata": {},
   "outputs": [],
   "source": [
    "#highest_emp"
   ]
  },
  {
   "cell_type": "code",
   "execution_count": 134,
   "id": "e57c15f4",
   "metadata": {},
   "outputs": [
    {
     "data": {
      "text/html": [
       "<div>\n",
       "<style scoped>\n",
       "    .dataframe tbody tr th:only-of-type {\n",
       "        vertical-align: middle;\n",
       "    }\n",
       "\n",
       "    .dataframe tbody tr th {\n",
       "        vertical-align: top;\n",
       "    }\n",
       "\n",
       "    .dataframe thead th {\n",
       "        text-align: right;\n",
       "    }\n",
       "</style>\n",
       "<table border=\"1\" class=\"dataframe\">\n",
       "  <thead>\n",
       "    <tr style=\"text-align: right;\">\n",
       "      <th></th>\n",
       "      <th>Rank</th>\n",
       "      <th>Name</th>\n",
       "      <th>Employees</th>\n",
       "    </tr>\n",
       "  </thead>\n",
       "  <tbody>\n",
       "    <tr>\n",
       "      <th>0</th>\n",
       "      <td>1</td>\n",
       "      <td>Walmart</td>\n",
       "      <td>2300000.0</td>\n",
       "    </tr>\n",
       "    <tr>\n",
       "      <th>1</th>\n",
       "      <td>2</td>\n",
       "      <td>Amazon</td>\n",
       "      <td>1608000.0</td>\n",
       "    </tr>\n",
       "    <tr>\n",
       "      <th>2</th>\n",
       "      <td>3</td>\n",
       "      <td>Apple</td>\n",
       "      <td>154000.0</td>\n",
       "    </tr>\n",
       "    <tr>\n",
       "      <th>3</th>\n",
       "      <td>4</td>\n",
       "      <td>CVS Health</td>\n",
       "      <td>258000.0</td>\n",
       "    </tr>\n",
       "    <tr>\n",
       "      <th>4</th>\n",
       "      <td>5</td>\n",
       "      <td>UnitedHealth Group</td>\n",
       "      <td>350000.0</td>\n",
       "    </tr>\n",
       "  </tbody>\n",
       "</table>\n",
       "</div>"
      ],
      "text/plain": [
       "   Rank                Name  Employees\n",
       "0     1             Walmart  2300000.0\n",
       "1     2              Amazon  1608000.0\n",
       "2     3               Apple   154000.0\n",
       "3     4          CVS Health   258000.0\n",
       "4     5  UnitedHealth Group   350000.0"
      ]
     },
     "execution_count": 134,
     "metadata": {},
     "output_type": "execute_result"
    }
   ],
   "source": [
    "# Finding the companies with the highest number of employees hired.\n",
    "highest_emp.loc[[0,1,2,3,4],['Rank','Name','Employees']]"
   ]
  },
  {
   "cell_type": "code",
   "execution_count": 135,
   "id": "d0f42548",
   "metadata": {},
   "outputs": [
    {
     "data": {
      "text/html": [
       "<div>\n",
       "<style scoped>\n",
       "    .dataframe tbody tr th:only-of-type {\n",
       "        vertical-align: middle;\n",
       "    }\n",
       "\n",
       "    .dataframe tbody tr th {\n",
       "        vertical-align: top;\n",
       "    }\n",
       "\n",
       "    .dataframe thead th {\n",
       "        text-align: right;\n",
       "    }\n",
       "</style>\n",
       "<table border=\"1\" class=\"dataframe\">\n",
       "  <thead>\n",
       "    <tr style=\"text-align: right;\">\n",
       "      <th></th>\n",
       "      <th>Rank</th>\n",
       "      <th>Name</th>\n",
       "      <th>Employees</th>\n",
       "    </tr>\n",
       "  </thead>\n",
       "  <tbody>\n",
       "    <tr>\n",
       "      <th>0</th>\n",
       "      <td>1</td>\n",
       "      <td>Walmart</td>\n",
       "      <td>2300000.0</td>\n",
       "    </tr>\n",
       "    <tr>\n",
       "      <th>1</th>\n",
       "      <td>2</td>\n",
       "      <td>Amazon</td>\n",
       "      <td>1608000.0</td>\n",
       "    </tr>\n",
       "    <tr>\n",
       "      <th>16</th>\n",
       "      <td>17</td>\n",
       "      <td>Home Depot</td>\n",
       "      <td>490600.0</td>\n",
       "    </tr>\n",
       "    <tr>\n",
       "      <th>38</th>\n",
       "      <td>39</td>\n",
       "      <td>FedEx</td>\n",
       "      <td>484000.0</td>\n",
       "    </tr>\n",
       "    <tr>\n",
       "      <th>31</th>\n",
       "      <td>32</td>\n",
       "      <td>Target</td>\n",
       "      <td>450000.0</td>\n",
       "    </tr>\n",
       "    <tr>\n",
       "      <th>20</th>\n",
       "      <td>21</td>\n",
       "      <td>Kroger</td>\n",
       "      <td>420000.0</td>\n",
       "    </tr>\n",
       "    <tr>\n",
       "      <th>33</th>\n",
       "      <td>34</td>\n",
       "      <td>United Parcel Service</td>\n",
       "      <td>400945.0</td>\n",
       "    </tr>\n",
       "    <tr>\n",
       "      <th>119</th>\n",
       "      <td>120</td>\n",
       "      <td>Starbucks</td>\n",
       "      <td>383000.0</td>\n",
       "    </tr>\n",
       "    <tr>\n",
       "      <th>6</th>\n",
       "      <td>7</td>\n",
       "      <td>Berkshire Hathaway</td>\n",
       "      <td>372000.0</td>\n",
       "    </tr>\n",
       "    <tr>\n",
       "      <th>4</th>\n",
       "      <td>5</td>\n",
       "      <td>UnitedHealth Group</td>\n",
       "      <td>350000.0</td>\n",
       "    </tr>\n",
       "  </tbody>\n",
       "</table>\n",
       "</div>"
      ],
      "text/plain": [
       "     Rank                   Name  Employees\n",
       "0       1                Walmart  2300000.0\n",
       "1       2                 Amazon  1608000.0\n",
       "16     17             Home Depot   490600.0\n",
       "38     39                  FedEx   484000.0\n",
       "31     32                 Target   450000.0\n",
       "20     21                 Kroger   420000.0\n",
       "33     34  United Parcel Service   400945.0\n",
       "119   120              Starbucks   383000.0\n",
       "6       7     Berkshire Hathaway   372000.0\n",
       "4       5     UnitedHealth Group   350000.0"
      ]
     },
     "execution_count": 135,
     "metadata": {},
     "output_type": "execute_result"
    }
   ],
   "source": [
    "highest_emp.loc[0:4,['Rank','Name','Employees']]"
   ]
  },
  {
   "cell_type": "code",
   "execution_count": 136,
   "id": "88af1ad3",
   "metadata": {},
   "outputs": [
    {
     "data": {
      "text/html": [
       "<div>\n",
       "<style scoped>\n",
       "    .dataframe tbody tr th:only-of-type {\n",
       "        vertical-align: middle;\n",
       "    }\n",
       "\n",
       "    .dataframe tbody tr th {\n",
       "        vertical-align: top;\n",
       "    }\n",
       "\n",
       "    .dataframe thead th {\n",
       "        text-align: right;\n",
       "    }\n",
       "</style>\n",
       "<table border=\"1\" class=\"dataframe\">\n",
       "  <thead>\n",
       "    <tr style=\"text-align: right;\">\n",
       "      <th></th>\n",
       "      <th>Rank</th>\n",
       "      <th>Name</th>\n",
       "      <th>Employees</th>\n",
       "    </tr>\n",
       "  </thead>\n",
       "  <tbody>\n",
       "    <tr>\n",
       "      <th>0</th>\n",
       "      <td>1</td>\n",
       "      <td>Walmart</td>\n",
       "      <td>2300000.0</td>\n",
       "    </tr>\n",
       "  </tbody>\n",
       "</table>\n",
       "</div>"
      ],
      "text/plain": [
       "   Rank     Name  Employees\n",
       "0     1  Walmart  2300000.0"
      ]
     },
     "execution_count": 136,
     "metadata": {},
     "output_type": "execute_result"
    }
   ],
   "source": [
    "# METHOD - 2\n",
    "fortune.loc[fortune['Employees']==fortune['Employees'].max(),['Rank', 'Name','Employees']]"
   ]
  },
  {
   "cell_type": "code",
   "execution_count": null,
   "id": "d7caf6b9",
   "metadata": {},
   "outputs": [],
   "source": []
  },
  {
   "cell_type": "code",
   "execution_count": 137,
   "id": "4f1e5e5e",
   "metadata": {},
   "outputs": [
    {
     "data": {
      "text/html": [
       "<div>\n",
       "<style scoped>\n",
       "    .dataframe tbody tr th:only-of-type {\n",
       "        vertical-align: middle;\n",
       "    }\n",
       "\n",
       "    .dataframe tbody tr th {\n",
       "        vertical-align: top;\n",
       "    }\n",
       "\n",
       "    .dataframe thead th {\n",
       "        text-align: right;\n",
       "    }\n",
       "</style>\n",
       "<table border=\"1\" class=\"dataframe\">\n",
       "  <thead>\n",
       "    <tr style=\"text-align: right;\">\n",
       "      <th></th>\n",
       "      <th>Rank</th>\n",
       "      <th>Name</th>\n",
       "      <th>Revenues ($M)</th>\n",
       "      <th>Revenue Percent Change</th>\n",
       "      <th>Profits ($M)</th>\n",
       "      <th>Profits Percent Change</th>\n",
       "      <th>Assets ($M)</th>\n",
       "      <th>Market Value - as of March 31, 2022 ($M)</th>\n",
       "      <th>Employees</th>\n",
       "    </tr>\n",
       "  </thead>\n",
       "  <tbody>\n",
       "    <tr>\n",
       "      <th>0</th>\n",
       "      <td>1</td>\n",
       "      <td>Walmart</td>\n",
       "      <td>572754.0</td>\n",
       "      <td>2.4</td>\n",
       "      <td>13673.0</td>\n",
       "      <td>1.2</td>\n",
       "      <td>244860.0</td>\n",
       "      <td>409795.0</td>\n",
       "      <td>2300000.0</td>\n",
       "    </tr>\n",
       "    <tr>\n",
       "      <th>1</th>\n",
       "      <td>2</td>\n",
       "      <td>Amazon</td>\n",
       "      <td>469822.0</td>\n",
       "      <td>21.7</td>\n",
       "      <td>33364.0</td>\n",
       "      <td>56.4</td>\n",
       "      <td>420549.0</td>\n",
       "      <td>1658807.3</td>\n",
       "      <td>1608000.0</td>\n",
       "    </tr>\n",
       "    <tr>\n",
       "      <th>16</th>\n",
       "      <td>17</td>\n",
       "      <td>Home Depot</td>\n",
       "      <td>151157.0</td>\n",
       "      <td>14.4</td>\n",
       "      <td>16433.0</td>\n",
       "      <td>27.7</td>\n",
       "      <td>71876.0</td>\n",
       "      <td>309312.6</td>\n",
       "      <td>490600.0</td>\n",
       "    </tr>\n",
       "    <tr>\n",
       "      <th>38</th>\n",
       "      <td>39</td>\n",
       "      <td>FedEx</td>\n",
       "      <td>83959.0</td>\n",
       "      <td>21.3</td>\n",
       "      <td>5231.0</td>\n",
       "      <td>306.8</td>\n",
       "      <td>82777.0</td>\n",
       "      <td>59971.3</td>\n",
       "      <td>484000.0</td>\n",
       "    </tr>\n",
       "    <tr>\n",
       "      <th>31</th>\n",
       "      <td>32</td>\n",
       "      <td>Target</td>\n",
       "      <td>106005.0</td>\n",
       "      <td>13.3</td>\n",
       "      <td>6946.0</td>\n",
       "      <td>59.0</td>\n",
       "      <td>53811.0</td>\n",
       "      <td>98134.4</td>\n",
       "      <td>450000.0</td>\n",
       "    </tr>\n",
       "  </tbody>\n",
       "</table>\n",
       "</div>"
      ],
      "text/plain": [
       "    Rank        Name  Revenues ($M)  Revenue Percent Change  Profits ($M)  \\\n",
       "0      1     Walmart       572754.0                     2.4       13673.0   \n",
       "1      2      Amazon       469822.0                    21.7       33364.0   \n",
       "16    17  Home Depot       151157.0                    14.4       16433.0   \n",
       "38    39       FedEx        83959.0                    21.3        5231.0   \n",
       "31    32      Target       106005.0                    13.3        6946.0   \n",
       "\n",
       "    Profits Percent Change  Assets ($M)  \\\n",
       "0                      1.2     244860.0   \n",
       "1                     56.4     420549.0   \n",
       "16                    27.7      71876.0   \n",
       "38                   306.8      82777.0   \n",
       "31                    59.0      53811.0   \n",
       "\n",
       "    Market Value - as of March 31, 2022 ($M)  Employees  \n",
       "0                                   409795.0  2300000.0  \n",
       "1                                  1658807.3  1608000.0  \n",
       "16                                  309312.6   490600.0  \n",
       "38                                   59971.3   484000.0  \n",
       "31                                   98134.4   450000.0  "
      ]
     },
     "execution_count": 137,
     "metadata": {},
     "output_type": "execute_result"
    }
   ],
   "source": [
    "# METHOD - 3\n",
    "top5Emp=pd.DataFrame(fortune.nlargest(5,'Employees'))\n",
    "top5Emp"
   ]
  },
  {
   "cell_type": "code",
   "execution_count": 138,
   "id": "751aab1b",
   "metadata": {},
   "outputs": [
    {
     "data": {
      "text/html": [
       "<div>\n",
       "<style scoped>\n",
       "    .dataframe tbody tr th:only-of-type {\n",
       "        vertical-align: middle;\n",
       "    }\n",
       "\n",
       "    .dataframe tbody tr th {\n",
       "        vertical-align: top;\n",
       "    }\n",
       "\n",
       "    .dataframe thead th {\n",
       "        text-align: right;\n",
       "    }\n",
       "</style>\n",
       "<table border=\"1\" class=\"dataframe\">\n",
       "  <thead>\n",
       "    <tr style=\"text-align: right;\">\n",
       "      <th></th>\n",
       "      <th>Name</th>\n",
       "      <th>Employees</th>\n",
       "    </tr>\n",
       "  </thead>\n",
       "  <tbody>\n",
       "    <tr>\n",
       "      <th>0</th>\n",
       "      <td>Walmart</td>\n",
       "      <td>2300000.0</td>\n",
       "    </tr>\n",
       "    <tr>\n",
       "      <th>1</th>\n",
       "      <td>Amazon</td>\n",
       "      <td>1608000.0</td>\n",
       "    </tr>\n",
       "    <tr>\n",
       "      <th>16</th>\n",
       "      <td>Home Depot</td>\n",
       "      <td>490600.0</td>\n",
       "    </tr>\n",
       "    <tr>\n",
       "      <th>38</th>\n",
       "      <td>FedEx</td>\n",
       "      <td>484000.0</td>\n",
       "    </tr>\n",
       "    <tr>\n",
       "      <th>31</th>\n",
       "      <td>Target</td>\n",
       "      <td>450000.0</td>\n",
       "    </tr>\n",
       "  </tbody>\n",
       "</table>\n",
       "</div>"
      ],
      "text/plain": [
       "          Name  Employees\n",
       "0      Walmart  2300000.0\n",
       "1       Amazon  1608000.0\n",
       "16  Home Depot   490600.0\n",
       "38       FedEx   484000.0\n",
       "31      Target   450000.0"
      ]
     },
     "execution_count": 138,
     "metadata": {},
     "output_type": "execute_result"
    }
   ],
   "source": [
    "top5Emp.loc[:,['Name','Employees']]"
   ]
  },
  {
   "cell_type": "code",
   "execution_count": null,
   "id": "48e87bde",
   "metadata": {},
   "outputs": [],
   "source": []
  },
  {
   "cell_type": "code",
   "execution_count": 139,
   "id": "b52ca0ee",
   "metadata": {},
   "outputs": [
    {
     "data": {
      "image/png": "[encoded data removed]",
      "text/plain": [
       "<Figure size 432x288 with 1 Axes>"
      ]
     },
     "metadata": {},
     "output_type": "display_data"
    }
   ],
   "source": [
    "x=top5Emp['Employees']\n",
    "plt.pie(x, labels=['Walmart','Amazon','Home Depot','FedEx','Target'], explode=[0.1,0.1,0.1,0.1,0.1], shadow=True, radius=2.5)\n",
    "#plt.title(\"Companies with highest Employees\",loc='right')\n",
    "plt.show()"
   ]
  },
  {
   "cell_type": "code",
   "execution_count": 140,
   "id": "987caf9e",
   "metadata": {},
   "outputs": [
    {
     "ename": "SyntaxError",
     "evalue": "invalid syntax (520252405.py, line 3)",
     "output_type": "error",
     "traceback": [
      "\u001b[1;36m  Input \u001b[1;32mIn [140]\u001b[1;36m\u001b[0m\n\u001b[1;33m    plt.pie(x, labels=['Walmart','Amazon','Home Depot','FedEx','Target'], explode=[0.1,0.1,0.1,0.1,0.1],autopct= %2f, shadow=True, radius=2.5)\u001b[0m\n\u001b[1;37m                                                                                                                 ^\u001b[0m\n\u001b[1;31mSyntaxError\u001b[0m\u001b[1;31m:\u001b[0m invalid syntax\n"
     ]
    }
   ],
   "source": [
    "#autopct=fmt % pct\n",
    "x=top5Emp['Employees']\n",
    "plt.pie(x, labels=['Walmart','Amazon','Home Depot','FedEx','Target'], explode=[0.1,0.1,0.1,0.1,0.1],autopct= %2f, shadow=True, radius=2.5)\n",
    "#plt.title(\"Companies with highest Employees\",loc='right')\n",
    "plt.show()"
   ]
  },
  {
   "cell_type": "markdown",
   "id": "819087eb",
   "metadata": {},
   "source": [
    "#### The above pie chart shows the companies with the top 5 highest number of employees working"
   ]
  },
  {
   "cell_type": "markdown",
   "id": "0d8a9c2e",
   "metadata": {},
   "source": [
    "## Whats the company with the highest Revenue - Find the top 5?"
   ]
  },
  {
   "cell_type": "code",
   "execution_count": null,
   "id": "1c952737",
   "metadata": {},
   "outputs": [],
   "source": [
    "top5Revenue=pd.DataFrame(fortune.nlargest(5,'Revenues ($M)'))\n",
    "top5Revenue"
   ]
  },
  {
   "cell_type": "code",
   "execution_count": null,
   "id": "80c3e2fa",
   "metadata": {},
   "outputs": [],
   "source": [
    "sns.barplot(x='Name',y='Revenues ($M)',data=top5Revenue)\n",
    "plt.xticks(rotation=45)\n",
    "plt.show()"
   ]
  },
  {
   "cell_type": "markdown",
   "id": "6113f703",
   "metadata": {},
   "source": [
    "#### The above plot shows the Top 5 companies with their corresponding revenues"
   ]
  },
  {
   "cell_type": "code",
   "execution_count": null,
   "id": "68546c99",
   "metadata": {},
   "outputs": [],
   "source": [
    "sns.scatterplot(x='Profits ($M)',y='Revenues ($M)',data=top5Revenue,hue='Name')\n",
    "#plt.show()"
   ]
  },
  {
   "cell_type": "code",
   "execution_count": null,
   "id": "5884f47d",
   "metadata": {},
   "outputs": [],
   "source": [
    "#sns.factorplot(data=top5Revenue, x='Name', hue='Profits ($M)')\n",
    "#plt.show()\n",
    "#sns.factorplot(data=titanic, x='Name', kind='Revenues ($M)', hue='Profits ($M)')\n"
   ]
  },
  {
   "cell_type": "code",
   "execution_count": null,
   "id": "735c3884",
   "metadata": {},
   "outputs": [],
   "source": [
    "top5Revenue.info()"
   ]
  },
  {
   "cell_type": "code",
   "execution_count": null,
   "id": "45a7757e",
   "metadata": {},
   "outputs": [],
   "source": []
  },
  {
   "cell_type": "code",
   "execution_count": null,
   "id": "ea39f419",
   "metadata": {},
   "outputs": [],
   "source": []
  },
  {
   "cell_type": "markdown",
   "id": "bf524453",
   "metadata": {},
   "source": [
    "### Which companies made the highest profit? - Top 5?"
   ]
  },
  {
   "cell_type": "code",
   "execution_count": null,
   "id": "0d443565",
   "metadata": {},
   "outputs": [],
   "source": [
    "fortune.sort_values(by='Profits ($M)', ascending=False)"
   ]
  },
  {
   "cell_type": "code",
   "execution_count": null,
   "id": "5fc4f147",
   "metadata": {},
   "outputs": [],
   "source": [
    "top5Profit=pd.DataFrame(fortune.nlargest(5,'Profits ($M)'))\n",
    "top5Profit"
   ]
  },
  {
   "cell_type": "code",
   "execution_count": null,
   "id": "63c83a4a",
   "metadata": {},
   "outputs": [],
   "source": [
    "sns.barplot(x='Name',y='Profits ($M)',data=top5Profit)\n",
    "plt.xticks(rotation=45)\n",
    "plt.show()"
   ]
  },
  {
   "cell_type": "markdown",
   "id": "f84ee04b",
   "metadata": {},
   "source": [
    "#### The above bar plot shows the companies with top 5 profits generated"
   ]
  },
  {
   "cell_type": "markdown",
   "id": "d9555a97",
   "metadata": {},
   "source": [
    "## Demonstrating a new variable creation"
   ]
  },
  {
   "cell_type": "code",
   "execution_count": null,
   "id": "4732a928",
   "metadata": {},
   "outputs": [],
   "source": [
    "# Creating a new categorical variable for the top 15 companies.\n",
    "new_fortune=fortune.head(15).copy()"
   ]
  },
  {
   "cell_type": "code",
   "execution_count": null,
   "id": "01a9cedd",
   "metadata": {},
   "outputs": [],
   "source": [
    "new_fortune"
   ]
  },
  {
   "cell_type": "code",
   "execution_count": null,
   "id": "41208726",
   "metadata": {},
   "outputs": [],
   "source": [
    "# Removing unnecessary variables\n",
    "new_fortune.drop('Market Value - as of March 31, 2022 ($M)', axis=1, inplace=True)"
   ]
  },
  {
   "cell_type": "code",
   "execution_count": null,
   "id": "c0863d05",
   "metadata": {},
   "outputs": [],
   "source": [
    "new_fortune.drop('Revenue Percent Change', axis=1, inplace=True)"
   ]
  },
  {
   "cell_type": "code",
   "execution_count": null,
   "id": "5ff711d3",
   "metadata": {},
   "outputs": [],
   "source": [
    "new_fortune.drop('Profits Percent Change', axis=1, inplace=True)"
   ]
  },
  {
   "cell_type": "code",
   "execution_count": null,
   "id": "bfe104b6",
   "metadata": {},
   "outputs": [],
   "source": [
    "new_fortune"
   ]
  },
  {
   "cell_type": "code",
   "execution_count": null,
   "id": "01ef5e8f",
   "metadata": {},
   "outputs": [],
   "source": [
    "# Adding a new Categorical variable to the dataset\n",
    "new_fortune['Type']=['Product Based', 'Product Based', 'Product Based', 'Product Based', 'Service Based', 'Product Based', 'Service Based', 'Product Based', 'Product Based', 'Service Based', 'Product Based', 'Service Based', 'Service Based', 'Product Based', 'Product Based']"
   ]
  },
  {
   "cell_type": "code",
   "execution_count": null,
   "id": "f7b5c83e",
   "metadata": {},
   "outputs": [],
   "source": [
    "new_fortune"
   ]
  },
  {
   "cell_type": "markdown",
   "id": "7e3963ec",
   "metadata": {},
   "source": [
    "### Analyzing categorical v/s numerical variables"
   ]
  },
  {
   "cell_type": "code",
   "execution_count": null,
   "id": "49aa0d41",
   "metadata": {},
   "outputs": [],
   "source": [
    "a=pd.DataFrame(new_fortune.groupby('Type')['Revenues ($M)'].sum())"
   ]
  },
  {
   "cell_type": "code",
   "execution_count": null,
   "id": "c25ce11d",
   "metadata": {},
   "outputs": [],
   "source": [
    "a.reset_index(inplace=True)"
   ]
  },
  {
   "cell_type": "code",
   "execution_count": null,
   "id": "bc45966b",
   "metadata": {},
   "outputs": [],
   "source": [
    "a"
   ]
  },
  {
   "cell_type": "code",
   "execution_count": null,
   "id": "2f6e201b",
   "metadata": {},
   "outputs": [],
   "source": [
    "sns.barplot(x= 'Type', y='Revenues ($M)', data=a)"
   ]
  },
  {
   "cell_type": "code",
   "execution_count": null,
   "id": "8e913487",
   "metadata": {},
   "outputs": [],
   "source": [
    "ab=sns.countplot(x= 'Type', data=new_fortune)\n",
    "ab"
   ]
  },
  {
   "cell_type": "markdown",
   "id": "212139d2",
   "metadata": {},
   "source": [
    "<b>Observation:<br>\n",
    "    The above concludes that the Product based companies generate the highest total of Revenues<b>\n",
    "    \n"
   ]
  },
  {
   "cell_type": "code",
   "execution_count": null,
   "id": "513cdc32",
   "metadata": {},
   "outputs": [],
   "source": [
    "# The above concludes that the Product based companies generate the highest total of Revenues."
   ]
  },
  {
   "cell_type": "code",
   "execution_count": null,
   "id": "1a3564e1",
   "metadata": {},
   "outputs": [],
   "source": [
    "# Which companies generates the highest revenue in each category?\n",
    "b=pd.DataFrame(new_fortune.groupby(['Type','Name'])['Revenues ($M)'].max())\n",
    "b"
   ]
  },
  {
   "cell_type": "code",
   "execution_count": null,
   "id": "e14f53e5",
   "metadata": {},
   "outputs": [],
   "source": [
    "a=new_fortune.groupby(['Type'])['Revenues ($M)'].max()[0]\n",
    "new_fortune.loc[new_fortune['Revenues ($M)']==a,['Name','Revenues ($M)','Type']]"
   ]
  },
  {
   "cell_type": "code",
   "execution_count": null,
   "id": "db8ca9ce",
   "metadata": {},
   "outputs": [],
   "source": [
    "b=new_fortune.groupby(['Type'])['Revenues ($M)'].max()[1]\n",
    "new_fortune.loc[new_fortune['Revenues ($M)']==b,['Name','Revenues ($M)','Type']]"
   ]
  },
  {
   "cell_type": "code",
   "execution_count": null,
   "id": "a3b32c01",
   "metadata": {},
   "outputs": [],
   "source": [
    "# Maximum revenue generated by each category of company\n",
    "c=pd.DataFrame(new_fortune.groupby('Type')['Revenues ($M)'].max())\n",
    "c"
   ]
  },
  {
   "cell_type": "code",
   "execution_count": null,
   "id": "38833800",
   "metadata": {},
   "outputs": [],
   "source": []
  },
  {
   "cell_type": "code",
   "execution_count": null,
   "id": "b04542ec",
   "metadata": {},
   "outputs": [],
   "source": [
    "new_fortune.query(\"Type=='Product Based' or Type=='Service Based'\")[\"Revenues ($M)\"].max()"
   ]
  },
  {
   "cell_type": "code",
   "execution_count": null,
   "id": "455f3e7b",
   "metadata": {},
   "outputs": [],
   "source": [
    "#new_fortune.loc('Name',[('Revenues ($M)==Revenues ($M).max')])"
   ]
  },
  {
   "cell_type": "code",
   "execution_count": null,
   "id": "92a1bcb8",
   "metadata": {},
   "outputs": [],
   "source": [
    "#new_fortune.loc[((new_fortune['Revenues ($M)']==new_fortune['Revenues ($M)'].max())& (new_fortune['Type']=='Product Based' | new_fortune['Type']=='Service Based' )), [\"Name\", \"Type\",\"Revenues ($M)\"]]"
   ]
  },
  {
   "cell_type": "code",
   "execution_count": null,
   "id": "b938ff17",
   "metadata": {},
   "outputs": [],
   "source": [
    "new_fortune.groupby(['Type','Name'])['Revenues ($M)'].max()"
   ]
  },
  {
   "cell_type": "code",
   "execution_count": null,
   "id": "42fd1aba",
   "metadata": {},
   "outputs": [],
   "source": [
    "new_fortune.loc[new_fortune['Revenues ($M)']==new_fortune['Revenues ($M)'].max(), [\"Name\", \"Type\",\"Revenues ($M)\"]]"
   ]
  },
  {
   "cell_type": "code",
   "execution_count": null,
   "id": "d35e3ca5",
   "metadata": {},
   "outputs": [],
   "source": []
  },
  {
   "cell_type": "code",
   "execution_count": null,
   "id": "4e00e91d",
   "metadata": {},
   "outputs": [],
   "source": [
    "new_fortune"
   ]
  },
  {
   "cell_type": "markdown",
   "id": "ba98a8c9",
   "metadata": {},
   "source": [
    "### Creating a new column and then splitting it into two "
   ]
  },
  {
   "cell_type": "markdown",
   "id": "4c62fd5d",
   "metadata": {},
   "source": [
    "### 1.) using split function"
   ]
  },
  {
   "cell_type": "code",
   "execution_count": null,
   "id": "caf7ffe5",
   "metadata": {},
   "outputs": [],
   "source": [
    "new_fortune['About']=['Arkansas, +1347659817', 'Washington, +1234567895', 'California, +6148952351', 'Rhode Island, +6147892356', 'Minnesota, +6142359876', 'Texas, +1239578465', 'Nebraska, +1236597518', 'California, +6145697852', 'Texas, +6145624862', 'Pennsylvania, +1236954578', 'Washington, +6145698452', 'Connecticut, +6142356598', 'Texas, +1236547896', 'Washington, +1237548569', 'Ohio, +6142354587' ]"
   ]
  },
  {
   "cell_type": "code",
   "execution_count": null,
   "id": "00ad7d62",
   "metadata": {},
   "outputs": [],
   "source": [
    "new_fortune"
   ]
  },
  {
   "cell_type": "code",
   "execution_count": null,
   "id": "356c59e4",
   "metadata": {},
   "outputs": [],
   "source": [
    "new_fortune[['Headquarters', 'Contact']]=new_fortune['About'].str.split(',', expand=True)"
   ]
  },
  {
   "cell_type": "code",
   "execution_count": null,
   "id": "57418060",
   "metadata": {},
   "outputs": [],
   "source": [
    "new_fortune"
   ]
  },
  {
   "cell_type": "code",
   "execution_count": null,
   "id": "24ca778c",
   "metadata": {},
   "outputs": [],
   "source": [
    "#new_fortune.drop([\"(Headquarters, Contact)\"],axis=0)"
   ]
  },
  {
   "cell_type": "code",
   "execution_count": null,
   "id": "97b83d0c",
   "metadata": {},
   "outputs": [],
   "source": [
    "new_fortune.dtypes"
   ]
  },
  {
   "cell_type": "code",
   "execution_count": null,
   "id": "10805fd4",
   "metadata": {},
   "outputs": [],
   "source": []
  },
  {
   "cell_type": "code",
   "execution_count": null,
   "id": "1119f3c3",
   "metadata": {},
   "outputs": [],
   "source": []
  },
  {
   "cell_type": "markdown",
   "id": "8c1cea4d",
   "metadata": {},
   "source": [
    "### 2.) using regex"
   ]
  },
  {
   "cell_type": "code",
   "execution_count": null,
   "id": "4698f68a",
   "metadata": {},
   "outputs": [],
   "source": [
    "new_fortune1=new_fortune.copy()"
   ]
  },
  {
   "cell_type": "code",
   "execution_count": null,
   "id": "68b115ca",
   "metadata": {},
   "outputs": [],
   "source": [
    "new_fortune1"
   ]
  },
  {
   "cell_type": "code",
   "execution_count": null,
   "id": "73f89a15",
   "metadata": {},
   "outputs": [],
   "source": [
    "new_fortune1.drop('Headquarters',axis=1,inplace=True)"
   ]
  },
  {
   "cell_type": "code",
   "execution_count": null,
   "id": "8422e47f",
   "metadata": {},
   "outputs": [],
   "source": [
    "new_fortune1"
   ]
  },
  {
   "cell_type": "code",
   "execution_count": null,
   "id": "f238f222",
   "metadata": {},
   "outputs": [],
   "source": [
    "new_fortune1.drop('Contact',axis=1,inplace=True)"
   ]
  },
  {
   "cell_type": "code",
   "execution_count": null,
   "id": "ffe9520c",
   "metadata": {},
   "outputs": [],
   "source": [
    "new_fortune1"
   ]
  },
  {
   "cell_type": "code",
   "execution_count": null,
   "id": "b5bced86",
   "metadata": {},
   "outputs": [],
   "source": [
    "regex = r'\\++[\\d]+'"
   ]
  },
  {
   "cell_type": "code",
   "execution_count": null,
   "id": "8b6818f4",
   "metadata": {},
   "outputs": [],
   "source": [
    "new_fortune1['CONTACT'] = new_fortune1['About'].apply(lambda x : re.findall(regex, x))"
   ]
  },
  {
   "cell_type": "code",
   "execution_count": null,
   "id": "c931abcb",
   "metadata": {},
   "outputs": [],
   "source": [
    "new_fortune1"
   ]
  },
  {
   "cell_type": "code",
   "execution_count": null,
   "id": "ef4e7e35",
   "metadata": {},
   "outputs": [],
   "source": []
  }
 ],
 "metadata": {
  "kernelspec": {
   "display_name": "Python 3 (ipykernel)",
   "language": "python",
   "name": "python3"
  },
  "language_info": {
   "codemirror_mode": {
    "name": "ipython",
    "version": 3
   },
   "file_extension": ".py",
   "mimetype": "text/x-python",
   "name": "python",
   "nbconvert_exporter": "python",
   "pygments_lexer": "ipython3",
   "version": "3.9.12"
  }
 },
 "nbformat": 4,
 "nbformat_minor": 5
}
