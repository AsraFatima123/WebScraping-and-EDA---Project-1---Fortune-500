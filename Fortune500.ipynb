{
 "cells": [
  {
   "cell_type": "code",
   "execution_count": 2,
   "id": "73886faa",
   "metadata": {},
   "outputs": [
    {
     "name": "stdout",
     "output_type": "stream",
     "text": [
      "'test'\n"
     ]
    }
   ],
   "source": [
    "print(\"'test'\")"
   ]
  },
  {
   "cell_type": "code",
   "execution_count": 4,
   "id": "1c72d120",
   "metadata": {},
   "outputs": [],
   "source": [
    "import requests as rq\n",
    "import re\n",
    "import csv \n",
    "from bs4 import BeautifulSoup as BS\n",
    "from IPython.display import display, HTML\n",
    "from IPython.display import IFrame"
   ]
  },
  {
   "cell_type": "code",
   "execution_count": 7,
   "id": "0fe9ac05",
   "metadata": {},
   "outputs": [],
   "source": [
    "URL='https://fortune.com/fortune500/2022/search/'\n",
    "response=rq.get(URL)"
   ]
  },
  {
   "cell_type": "code",
   "execution_count": 9,
   "id": "d451827f",
   "metadata": {},
   "outputs": [
    {
     "data": {
      "text/plain": [
       "200"
      ]
     },
     "execution_count": 9,
     "metadata": {},
     "output_type": "execute_result"
    }
   ],
   "source": [
    "response.status_code"
   ]
  },
  {
   "cell_type": "code",
   "execution_count": 10,
   "id": "53275916",
   "metadata": {},
   "outputs": [],
   "source": [
    "# The above status code shows that data can be scraped"
   ]
  },
  {
   "cell_type": "markdown",
   "id": "99106c25",
   "metadata": {},
   "source": [
    "<h1 style=\"color:red\">Scraping data</h1>"
   ]
  },
  {
   "cell_type": "code",
   "execution_count": 1,
   "id": "87d7e2d4",
   "metadata": {},
   "outputs": [],
   "source": [
    "FILE_NAME=\"fortune500.csv\"\n",
    "data=[]\n",
    "columns=[\"Rank\",\"Name\",\"Revenues ($M)\",\"Revenue Percent Change\",\"Profits ($M)\",\n",
    "        \"Profits Percent Change\",\"Assets ($M)\",\"Market Value - as of March 31, 2022 ($M)\",\n",
    "        \"Change in Rank (Full 1000)\",\"Employees\",\"Change in Rank (500 only)\"]"
   ]
  },
  {
   "cell_type": "code",
   "execution_count": 2,
   "id": "6ae90029",
   "metadata": {},
   "outputs": [],
   "source": [
    "from bs4 import BeautifulSoup\n",
    "from selenium import webdriver\n",
    "from selenium.webdriver.support.ui import Select\n",
    "from selenium.webdriver.chrome.service import Service\n",
    "from selenium.webdriver.chrome.options import Options\n",
    "from selenium.webdriver.common.by import By\n",
    "#from webdriver_manager.chrome import ChromeDriverManager\n",
    "import time\n",
    "import csv \n",
    "import pandas as pd\n",
    "import re"
   ]
  },
  {
   "cell_type": "code",
   "execution_count": 3,
   "id": "6598a85e",
   "metadata": {},
   "outputs": [],
   "source": [
    "driver=webdriver.Chrome()\n",
    "\n",
    "url = \"https://fortune.com/fortune500/2022/search/\"\n",
    "driver.get(url)\n",
    "time.sleep(10)\n",
    "select = driver.find_element(By.CLASS_NAME,'-pageSizeOptions')\n",
    "soup = BeautifulSoup(driver.page_source)"
   ]
  },
  {
   "cell_type": "code",
   "execution_count": 4,
   "id": "22cb0f3b",
   "metadata": {},
   "outputs": [],
   "source": [
    "s=Select(select.find_element(By.TAG_NAME,\"select\"))\n",
    "\n",
    "s.select_by_value(\"100\")"
   ]
  },
  {
   "cell_type": "code",
   "execution_count": 5,
   "id": "1090929e",
   "metadata": {},
   "outputs": [
    {
     "data": {
      "text/plain": [
       "10"
      ]
     },
     "execution_count": 5,
     "metadata": {},
     "output_type": "execute_result"
    }
   ],
   "source": [
    "soup=BeautifulSoup(driver.page_source)\n",
    "\n",
    "total_pages=soup.select_one(\".-totalPages\")\n",
    "total_pages=int(total_pages.text)\n",
    "total_pages"
   ]
  },
  {
   "cell_type": "code",
   "execution_count": 6,
   "id": "a3ba981f",
   "metadata": {},
   "outputs": [],
   "source": [
    "driver.execute_script(\"document.querySelector('.tp-modal').style.display = 'none';\")\n",
    "driver.execute_script(\"document.querySelector('.tp-backdrop').style.display = 'none';\")"
   ]
  },
  {
   "cell_type": "code",
   "execution_count": 7,
   "id": "3201e49b",
   "metadata": {},
   "outputs": [],
   "source": [
    "driver.execute_script(\"window.scrollTo(0, document.body.scrollHeight);\")"
   ]
  },
  {
   "cell_type": "code",
   "execution_count": 8,
   "id": "f7a22b91",
   "metadata": {},
   "outputs": [],
   "source": [
    "def read_content(rows):\n",
    "    for row in rows:\n",
    "        row=row.select(\".searchResults__cellContent--3WEWj\")\n",
    "        obj=[]\n",
    "        \n",
    "        global data\n",
    "        for column in range(0,11):\n",
    "            obj.append(row[column].text)\n",
    "        data.append(obj)"
   ]
  },
  {
   "cell_type": "code",
   "execution_count": 9,
   "id": "1a6764ed",
   "metadata": {},
   "outputs": [
    {
     "name": "stdout",
     "output_type": "stream",
     "text": [
      "1 of 100\n",
      "2 of 100\n",
      "3 of 100\n",
      "4 of 100\n",
      "5 of 100\n"
     ]
    }
   ],
   "source": [
    "from selenium.webdriver.common.keys import Keys\n",
    "\n",
    "for page in range(1,6):\n",
    "    input=driver.find_element(By.CLASS_NAME,\"-pageJump\").find_element(By.TAG_NAME,\"input\")\n",
    "\n",
    "    soup=BeautifulSoup(driver.page_source)\n",
    "    rows = soup.find_all('div', attrs={\"class\":\"rt-tr-group\"})\n",
    "    print(F\"{page} of {len(rows)}\")\n",
    "    read_content(rows)\n",
    "    time.sleep(1)\n",
    "    input.send_keys(Keys.ARROW_UP)\n",
    "    input.send_keys(Keys.TAB)\n",
    "    "
   ]
  },
  {
   "cell_type": "code",
   "execution_count": 10,
   "id": "744fcaea",
   "metadata": {},
   "outputs": [],
   "source": [
    "# writing to csv file \n",
    "with open(FILE_NAME, 'w') as csvfile: \n",
    "    # creating a csv writer object \n",
    "    csvwriter = csv.writer(csvfile) \n",
    "        \n",
    "    # writing the fields \n",
    "    csvwriter.writerow(columns) \n",
    "        \n",
    "    # writing the data rows \n",
    "    csvwriter.writerows(data)"
   ]
  },
  {
   "cell_type": "code",
   "execution_count": 11,
   "id": "8b356a6c",
   "metadata": {},
   "outputs": [
    {
     "name": "stdout",
     "output_type": "stream",
     "text": [
      "<class 'pandas.core.frame.DataFrame'>\n",
      "RangeIndex: 500 entries, 0 to 499\n",
      "Data columns (total 11 columns):\n",
      " #   Column                                    Non-Null Count  Dtype \n",
      "---  ------                                    --------------  ----- \n",
      " 0   Rank                                      500 non-null    int64 \n",
      " 1   Name                                      500 non-null    object\n",
      " 2   Revenues ($M)                             500 non-null    object\n",
      " 3   Revenue Percent Change                    500 non-null    object\n",
      " 4   Profits ($M)                              500 non-null    object\n",
      " 5   Profits Percent Change                    500 non-null    object\n",
      " 6   Assets ($M)                               500 non-null    object\n",
      " 7   Market Value - as of March 31, 2022 ($M)  500 non-null    object\n",
      " 8   Change in Rank (Full 1000)                500 non-null    object\n",
      " 9   Employees                                 500 non-null    object\n",
      " 10  Change in Rank (500 only)                 500 non-null    object\n",
      "dtypes: int64(1), object(10)\n",
      "memory usage: 43.1+ KB\n"
     ]
    }
   ],
   "source": [
    "fortune500_data=pd.read_csv(FILE_NAME,encoding= 'unicode_escape')\n",
    "fortune500_data.info()"
   ]
  },
  {
   "cell_type": "code",
   "execution_count": 13,
   "id": "ec8d6a29",
   "metadata": {},
   "outputs": [
    {
     "data": {
      "text/html": [
       "<div>\n",
       "<style scoped>\n",
       "    .dataframe tbody tr th:only-of-type {\n",
       "        vertical-align: middle;\n",
       "    }\n",
       "\n",
       "    .dataframe tbody tr th {\n",
       "        vertical-align: top;\n",
       "    }\n",
       "\n",
       "    .dataframe thead th {\n",
       "        text-align: right;\n",
       "    }\n",
       "</style>\n",
       "<table border=\"1\" class=\"dataframe\">\n",
       "  <thead>\n",
       "    <tr style=\"text-align: right;\">\n",
       "      <th></th>\n",
       "      <th>Rank</th>\n",
       "      <th>Name</th>\n",
       "      <th>Revenues ($M)</th>\n",
       "      <th>Revenue Percent Change</th>\n",
       "      <th>Profits ($M)</th>\n",
       "      <th>Profits Percent Change</th>\n",
       "      <th>Assets ($M)</th>\n",
       "      <th>Market Value - as of March 31, 2022 ($M)</th>\n",
       "      <th>Change in Rank (Full 1000)</th>\n",
       "      <th>Employees</th>\n",
       "      <th>Change in Rank (500 only)</th>\n",
       "    </tr>\n",
       "  </thead>\n",
       "  <tbody>\n",
       "    <tr>\n",
       "      <th>0</th>\n",
       "      <td>1</td>\n",
       "      <td>Walmart</td>\n",
       "      <td>$572,754</td>\n",
       "      <td>2.4%</td>\n",
       "      <td>$13,673</td>\n",
       "      <td>1.2%</td>\n",
       "      <td>$244,860</td>\n",
       "      <td>$409,795</td>\n",
       "      <td>-</td>\n",
       "      <td>2,300,000</td>\n",
       "      <td>-</td>\n",
       "    </tr>\n",
       "    <tr>\n",
       "      <th>1</th>\n",
       "      <td>2</td>\n",
       "      <td>Amazon</td>\n",
       "      <td>$469,822</td>\n",
       "      <td>21.7%</td>\n",
       "      <td>$33,364</td>\n",
       "      <td>56.4%</td>\n",
       "      <td>$420,549</td>\n",
       "      <td>$1,658,807.3</td>\n",
       "      <td>-</td>\n",
       "      <td>1,608,000</td>\n",
       "      <td>-</td>\n",
       "    </tr>\n",
       "    <tr>\n",
       "      <th>2</th>\n",
       "      <td>3</td>\n",
       "      <td>Apple</td>\n",
       "      <td>$365,817</td>\n",
       "      <td>33.3%</td>\n",
       "      <td>$94,680</td>\n",
       "      <td>64.9%</td>\n",
       "      <td>$351,002</td>\n",
       "      <td>$2,849,537.6</td>\n",
       "      <td>-</td>\n",
       "      <td>154,000</td>\n",
       "      <td>-</td>\n",
       "    </tr>\n",
       "    <tr>\n",
       "      <th>3</th>\n",
       "      <td>4</td>\n",
       "      <td>CVS Health</td>\n",
       "      <td>$292,111</td>\n",
       "      <td>8.7%</td>\n",
       "      <td>$7,910</td>\n",
       "      <td>10.2%</td>\n",
       "      <td>$232,999</td>\n",
       "      <td>$132,839.2</td>\n",
       "      <td>-</td>\n",
       "      <td>258,000</td>\n",
       "      <td>-</td>\n",
       "    </tr>\n",
       "    <tr>\n",
       "      <th>4</th>\n",
       "      <td>5</td>\n",
       "      <td>UnitedHealth Group</td>\n",
       "      <td>$287,597</td>\n",
       "      <td>11.8%</td>\n",
       "      <td>$17,285</td>\n",
       "      <td>12.2%</td>\n",
       "      <td>$212,206</td>\n",
       "      <td>$479,830.3</td>\n",
       "      <td>-</td>\n",
       "      <td>350,000</td>\n",
       "      <td>-</td>\n",
       "    </tr>\n",
       "  </tbody>\n",
       "</table>\n",
       "</div>"
      ],
      "text/plain": [
       "   Rank                Name Revenues ($M) Revenue Percent Change Profits ($M)  \\\n",
       "0     1             Walmart      $572,754                   2.4%      $13,673   \n",
       "1     2              Amazon      $469,822                  21.7%      $33,364   \n",
       "2     3               Apple      $365,817                  33.3%      $94,680   \n",
       "3     4          CVS Health      $292,111                   8.7%       $7,910   \n",
       "4     5  UnitedHealth Group      $287,597                  11.8%      $17,285   \n",
       "\n",
       "  Profits Percent Change Assets ($M) Market Value - as of March 31, 2022 ($M)  \\\n",
       "0                   1.2%    $244,860                                 $409,795   \n",
       "1                  56.4%    $420,549                             $1,658,807.3   \n",
       "2                  64.9%    $351,002                             $2,849,537.6   \n",
       "3                  10.2%    $232,999                               $132,839.2   \n",
       "4                  12.2%    $212,206                               $479,830.3   \n",
       "\n",
       "  Change in Rank (Full 1000)  Employees Change in Rank (500 only)  \n",
       "0                          -  2,300,000                         -  \n",
       "1                          -  1,608,000                         -  \n",
       "2                          -    154,000                         -  \n",
       "3                          -    258,000                         -  \n",
       "4                          -    350,000                         -  "
      ]
     },
     "execution_count": 13,
     "metadata": {},
     "output_type": "execute_result"
    }
   ],
   "source": [
    "fortune500_data.head()"
   ]
  },
  {
   "cell_type": "code",
   "execution_count": 246,
   "id": "1f36298e",
   "metadata": {},
   "outputs": [],
   "source": [
    "fortune500_data.Rank=fortune500_data.Rank.apply(lambda x:int(str.join('',re.findall(\"\\d+\",x))))"
   ]
  },
  {
   "cell_type": "code",
   "execution_count": 250,
   "id": "c9883f67",
   "metadata": {
    "scrolled": true
   },
   "outputs": [],
   "source": [
    "fortune500_data.sort_values(by=\"Rank\",ascending=True,inplace=True)"
   ]
  },
  {
   "cell_type": "code",
   "execution_count": 251,
   "id": "122f986f",
   "metadata": {},
   "outputs": [
    {
     "data": {
      "text/html": [
       "<div>\n",
       "<style scoped>\n",
       "    .dataframe tbody tr th:only-of-type {\n",
       "        vertical-align: middle;\n",
       "    }\n",
       "\n",
       "    .dataframe tbody tr th {\n",
       "        vertical-align: top;\n",
       "    }\n",
       "\n",
       "    .dataframe thead th {\n",
       "        text-align: right;\n",
       "    }\n",
       "</style>\n",
       "<table border=\"1\" class=\"dataframe\">\n",
       "  <thead>\n",
       "    <tr style=\"text-align: right;\">\n",
       "      <th></th>\n",
       "      <th>Rank</th>\n",
       "      <th>Name</th>\n",
       "      <th>Revenues ($M)</th>\n",
       "      <th>Revenue Percent Change</th>\n",
       "      <th>Profits ($M)</th>\n",
       "      <th>Profits Percent Change</th>\n",
       "      <th>Assets ($M)</th>\n",
       "      <th>Market Value  as of March 31, 2022 ($M)</th>\n",
       "      <th>Change in Rank (Full 1000)</th>\n",
       "      <th>Employees</th>\n",
       "      <th>Change in Rank (500 only)</th>\n",
       "    </tr>\n",
       "  </thead>\n",
       "  <tbody>\n",
       "    <tr>\n",
       "      <th>2000</th>\n",
       "      <td>1</td>\n",
       "      <td>Walmart</td>\n",
       "      <td>$572,754</td>\n",
       "      <td>2.4%</td>\n",
       "      <td>$13,673</td>\n",
       "      <td>1.2%</td>\n",
       "      <td>$244,860</td>\n",
       "      <td>$409,795</td>\n",
       "      <td>-</td>\n",
       "      <td>2,300,000</td>\n",
       "      <td>-</td>\n",
       "    </tr>\n",
       "  </tbody>\n",
       "</table>\n",
       "</div>"
      ],
      "text/plain": [
       "      Rank     Name Revenues ($M) Revenue Percent Change Profits ($M)  \\\n",
       "2000     1  Walmart      $572,754                   2.4%      $13,673   \n",
       "\n",
       "     Profits Percent Change Assets ($M)  \\\n",
       "2000                   1.2%    $244,860   \n",
       "\n",
       "     Market Value  as of March 31, 2022 ($M) Change in Rank (Full 1000)  \\\n",
       "2000                                 $409,795                          -   \n",
       "\n",
       "      Employees Change in Rank (500 only)  \n",
       "2000  2,300,000                         -  "
      ]
     },
     "execution_count": 251,
     "metadata": {},
     "output_type": "execute_result"
    }
   ],
   "source": [
    "fortune500_data[fortune500_data.Rank==1]"
   ]
  },
  {
   "cell_type": "code",
   "execution_count": 252,
   "id": "846697fd",
   "metadata": {},
   "outputs": [
    {
     "data": {
      "text/html": [
       "<div>\n",
       "<style scoped>\n",
       "    .dataframe tbody tr th:only-of-type {\n",
       "        vertical-align: middle;\n",
       "    }\n",
       "\n",
       "    .dataframe tbody tr th {\n",
       "        vertical-align: top;\n",
       "    }\n",
       "\n",
       "    .dataframe thead th {\n",
       "        text-align: right;\n",
       "    }\n",
       "</style>\n",
       "<table border=\"1\" class=\"dataframe\">\n",
       "  <thead>\n",
       "    <tr style=\"text-align: right;\">\n",
       "      <th></th>\n",
       "      <th>Rank</th>\n",
       "      <th>Name</th>\n",
       "      <th>Revenues ($M)</th>\n",
       "      <th>Revenue Percent Change</th>\n",
       "      <th>Profits ($M)</th>\n",
       "      <th>Profits Percent Change</th>\n",
       "      <th>Assets ($M)</th>\n",
       "      <th>Market Value  as of March 31, 2022 ($M)</th>\n",
       "      <th>Change in Rank (Full 1000)</th>\n",
       "      <th>Employees</th>\n",
       "      <th>Change in Rank (500 only)</th>\n",
       "    </tr>\n",
       "  </thead>\n",
       "  <tbody>\n",
       "    <tr>\n",
       "      <th>2000</th>\n",
       "      <td>1</td>\n",
       "      <td>Walmart</td>\n",
       "      <td>$572,754</td>\n",
       "      <td>2.4%</td>\n",
       "      <td>$13,673</td>\n",
       "      <td>1.2%</td>\n",
       "      <td>$244,860</td>\n",
       "      <td>$409,795</td>\n",
       "      <td>-</td>\n",
       "      <td>2,300,000</td>\n",
       "      <td>-</td>\n",
       "    </tr>\n",
       "    <tr>\n",
       "      <th>2001</th>\n",
       "      <td>2</td>\n",
       "      <td>Amazon</td>\n",
       "      <td>$469,822</td>\n",
       "      <td>21.7%</td>\n",
       "      <td>$33,364</td>\n",
       "      <td>56.4%</td>\n",
       "      <td>$420,549</td>\n",
       "      <td>$1,658,807.3</td>\n",
       "      <td>-</td>\n",
       "      <td>1,608,000</td>\n",
       "      <td>-</td>\n",
       "    </tr>\n",
       "    <tr>\n",
       "      <th>2002</th>\n",
       "      <td>3</td>\n",
       "      <td>Apple</td>\n",
       "      <td>$365,817</td>\n",
       "      <td>33.3%</td>\n",
       "      <td>$94,680</td>\n",
       "      <td>64.9%</td>\n",
       "      <td>$351,002</td>\n",
       "      <td>$2,849,537.6</td>\n",
       "      <td>-</td>\n",
       "      <td>154,000</td>\n",
       "      <td>-</td>\n",
       "    </tr>\n",
       "    <tr>\n",
       "      <th>2003</th>\n",
       "      <td>4</td>\n",
       "      <td>CVS Health</td>\n",
       "      <td>$292,111</td>\n",
       "      <td>8.7%</td>\n",
       "      <td>$7,910</td>\n",
       "      <td>10.2%</td>\n",
       "      <td>$232,999</td>\n",
       "      <td>$132,839.2</td>\n",
       "      <td>-</td>\n",
       "      <td>258,000</td>\n",
       "      <td>-</td>\n",
       "    </tr>\n",
       "    <tr>\n",
       "      <th>2004</th>\n",
       "      <td>5</td>\n",
       "      <td>UnitedHealth Group</td>\n",
       "      <td>$287,597</td>\n",
       "      <td>11.8%</td>\n",
       "      <td>$17,285</td>\n",
       "      <td>12.2%</td>\n",
       "      <td>$212,206</td>\n",
       "      <td>$479,830.3</td>\n",
       "      <td>-</td>\n",
       "      <td>350,000</td>\n",
       "      <td>-</td>\n",
       "    </tr>\n",
       "  </tbody>\n",
       "</table>\n",
       "</div>"
      ],
      "text/plain": [
       "      Rank                Name Revenues ($M) Revenue Percent Change  \\\n",
       "2000     1             Walmart      $572,754                   2.4%   \n",
       "2001     2              Amazon      $469,822                  21.7%   \n",
       "2002     3               Apple      $365,817                  33.3%   \n",
       "2003     4          CVS Health      $292,111                   8.7%   \n",
       "2004     5  UnitedHealth Group      $287,597                  11.8%   \n",
       "\n",
       "     Profits ($M) Profits Percent Change Assets ($M)  \\\n",
       "2000      $13,673                   1.2%    $244,860   \n",
       "2001      $33,364                  56.4%    $420,549   \n",
       "2002      $94,680                  64.9%    $351,002   \n",
       "2003       $7,910                  10.2%    $232,999   \n",
       "2004      $17,285                  12.2%    $212,206   \n",
       "\n",
       "     Market Value  as of March 31, 2022 ($M) Change in Rank (Full 1000)  \\\n",
       "2000                                 $409,795                          -   \n",
       "2001                             $1,658,807.3                          -   \n",
       "2002                             $2,849,537.6                          -   \n",
       "2003                               $132,839.2                          -   \n",
       "2004                               $479,830.3                          -   \n",
       "\n",
       "      Employees Change in Rank (500 only)  \n",
       "2000  2,300,000                         -  \n",
       "2001  1,608,000                         -  \n",
       "2002    154,000                         -  \n",
       "2003    258,000                         -  \n",
       "2004    350,000                         -  "
      ]
     },
     "execution_count": 252,
     "metadata": {},
     "output_type": "execute_result"
    }
   ],
   "source": [
    "fortune500_data.head()"
   ]
  },
  {
   "cell_type": "code",
   "execution_count": 43,
   "id": "e3f2385a",
   "metadata": {},
   "outputs": [
    {
     "data": {
      "text/plain": [
       "'C:\\\\Users\\\\NAME\\\\Fortune500'"
      ]
     },
     "execution_count": 43,
     "metadata": {},
     "output_type": "execute_result"
    }
   ],
   "source": [
    "import os\n",
    "os.getcwd()"
   ]
  },
  {
   "cell_type": "code",
   "execution_count": null,
   "id": "2f3bcb61",
   "metadata": {},
   "outputs": [],
   "source": []
  }
 ],
 "metadata": {
  "kernelspec": {
   "display_name": "Python 3 (ipykernel)",
   "language": "python",
   "name": "python3"
  },
  "language_info": {
   "codemirror_mode": {
    "name": "ipython",
    "version": 3
   },
   "file_extension": ".py",
   "mimetype": "text/x-python",
   "name": "python",
   "nbconvert_exporter": "python",
   "pygments_lexer": "ipython3",
   "version": "3.9.12"
  }
 },
 "nbformat": 4,
 "nbformat_minor": 5
}
